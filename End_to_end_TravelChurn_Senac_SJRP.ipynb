{
  "nbformat": 4,
  "nbformat_minor": 0,
  "metadata": {
    "kernelspec": {
      "display_name": "Python 3",
      "language": "python",
      "name": "python3"
    },
    "language_info": {
      "codemirror_mode": {
        "name": "ipython",
        "version": 3
      },
      "file_extension": ".py",
      "mimetype": "text/x-python",
      "name": "python",
      "nbconvert_exporter": "python",
      "pygments_lexer": "ipython3",
      "version": "3.7.10"
    },
    "nav_menu": {
      "height": "279px",
      "width": "309px"
    },
    "toc": {
      "nav_menu": {},
      "number_sections": true,
      "sideBar": true,
      "skip_h1_title": false,
      "toc_cell": false,
      "toc_position": {},
      "toc_section_display": "block",
      "toc_window_display": false
    },
    "colab": {
      "name": "End-to-end-TravelChurn-Senac-SJRP.ipynb",
      "provenance": [],
      "collapsed_sections": [],
      "include_colab_link": true
    }
  },
  "cells": [
    {
      "cell_type": "markdown",
      "metadata": {
        "id": "view-in-github",
        "colab_type": "text"
      },
      "source": [
        "<a href=\"https://colab.research.google.com/github/lmartins30/SENAC-SP/blob/main/End_to_end_TravelChurn_Senac_SJRP.ipynb\" target=\"_parent\"><img src=\"https://colab.research.google.com/assets/colab-badge.svg\" alt=\"Open In Colab\"/></a>"
      ]
    },
    {
      "cell_type": "markdown",
      "metadata": {
        "id": "hmfwaho1gN9a"
      },
      "source": [
        "# Setup"
      ]
    },
    {
      "cell_type": "markdown",
      "metadata": {
        "id": "uD0IWErPgN9a"
      },
      "source": [
        "First, let's import a few common modules, ensure MatplotLib plots figures inline and prepare a function to save the figures. We also check that Python 3.5 or later is installed (although Python 2.x may work, it is deprecated so we strongly recommend you use Python 3 instead), as well as Scikit-Learn ≥0.20."
      ]
    },
    {
      "cell_type": "code",
      "metadata": {
        "id": "X1y5MdqMgN9b"
      },
      "source": [
        "# Python ≥3.5 is required\n",
        "import sys\n",
        "assert sys.version_info >= (3, 5)\n",
        "\n",
        "# Scikit-Learn ≥0.20 is required\n",
        "import sklearn\n",
        "assert sklearn.__version__ >= \"0.20\"\n",
        "\n",
        "# Common imports\n",
        "import numpy as np\n",
        "import os\n",
        "import pandas as pd\n",
        "\n",
        "\n",
        "# To plot pretty figures\n",
        "%matplotlib inline\n",
        "import matplotlib as mpl\n",
        "import matplotlib.pyplot as plt\n",
        "mpl.rc('axes', labelsize=14)\n",
        "mpl.rc('xtick', labelsize=12)\n",
        "mpl.rc('ytick', labelsize=12)\n",
        "\n",
        "# Where to save the figures\n",
        "PROJECT_ROOT_DIR = \".\"\n",
        "CHAPTER_ID = \"end_to_end_project\"\n",
        "IMAGES_PATH = os.path.join(PROJECT_ROOT_DIR, \"images\", CHAPTER_ID)\n",
        "os.makedirs(IMAGES_PATH, exist_ok=True)\n",
        "\n",
        "def save_fig(fig_id, tight_layout=True, fig_extension=\"png\", resolution=300):\n",
        "    path = os.path.join(IMAGES_PATH, fig_id + \".\" + fig_extension)\n",
        "    print(\"Saving figure\", fig_id)\n",
        "    if tight_layout:\n",
        "        plt.tight_layout()\n",
        "    plt.savefig(path, format=fig_extension, dpi=resolution)"
      ],
      "execution_count": null,
      "outputs": []
    },
    {
      "cell_type": "markdown",
      "metadata": {
        "id": "OL943DPHgN9h"
      },
      "source": [
        "## Abrindo o Dataset"
      ]
    },
    {
      "cell_type": "code",
      "metadata": {
        "colab": {
          "resources": {
            "http://localhost:8080/nbextensions/google.colab/files.js": {
              "data": "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",
              "ok": true,
              "headers": [
                [
                  "content-type",
                  "application/javascript"
                ]
              ],
              "status": 200,
              "status_text": ""
            }
          },
          "base_uri": "https://localhost:8080/",
          "height": 73
        },
        "id": "8WGtibajlGKZ",
        "outputId": "87949c9c-1cdc-48cc-b8fa-0e24399071ea"
      },
      "source": [
        "from google.colab import files\n",
        "uploaded = files.upload()"
      ],
      "execution_count": null,
      "outputs": [
        {
          "output_type": "display_data",
          "data": {
            "text/html": [
              "\n",
              "     <input type=\"file\" id=\"files-ef87134d-d23e-4f39-946a-284f97388342\" name=\"files[]\" multiple disabled\n",
              "        style=\"border:none\" />\n",
              "     <output id=\"result-ef87134d-d23e-4f39-946a-284f97388342\">\n",
              "      Upload widget is only available when the cell has been executed in the\n",
              "      current browser session. Please rerun this cell to enable.\n",
              "      </output>\n",
              "      <script src=\"/nbextensions/google.colab/files.js\"></script> "
            ],
            "text/plain": [
              "<IPython.core.display.HTML object>"
            ]
          },
          "metadata": {}
        },
        {
          "output_type": "stream",
          "name": "stdout",
          "text": [
            "Saving Customertravel.csv to Customertravel.csv\n"
          ]
        }
      ]
    },
    {
      "cell_type": "code",
      "metadata": {
        "id": "-syts_1wlPOJ"
      },
      "source": [
        "import io\n",
        "df = pd.read_csv(io.BytesIO(uploaded['Customertravel.csv']))\n",
        "# Dataset is now stored in a Pandas Dataframe"
      ],
      "execution_count": null,
      "outputs": []
    },
    {
      "cell_type": "markdown",
      "metadata": {
        "id": "ZWDzQoSDgN9l"
      },
      "source": [
        "## Estrutura dos dados"
      ]
    },
    {
      "cell_type": "code",
      "metadata": {
        "id": "L2FKG4kdgN9l",
        "colab": {
          "base_uri": "https://localhost:8080/",
          "height": 204
        },
        "outputId": "99aedde7-032b-4fdf-af0b-c793749246b9"
      },
      "source": [
        "df.head()"
      ],
      "execution_count": null,
      "outputs": [
        {
          "output_type": "execute_result",
          "data": {
            "text/html": [
              "<div>\n",
              "<style scoped>\n",
              "    .dataframe tbody tr th:only-of-type {\n",
              "        vertical-align: middle;\n",
              "    }\n",
              "\n",
              "    .dataframe tbody tr th {\n",
              "        vertical-align: top;\n",
              "    }\n",
              "\n",
              "    .dataframe thead th {\n",
              "        text-align: right;\n",
              "    }\n",
              "</style>\n",
              "<table border=\"1\" class=\"dataframe\">\n",
              "  <thead>\n",
              "    <tr style=\"text-align: right;\">\n",
              "      <th></th>\n",
              "      <th>Age</th>\n",
              "      <th>FrequentFlyer</th>\n",
              "      <th>AnnualIncomeClass</th>\n",
              "      <th>ServicesOpted</th>\n",
              "      <th>AccountSyncedToSocialMedia</th>\n",
              "      <th>BookedHotelOrNot</th>\n",
              "      <th>Target</th>\n",
              "    </tr>\n",
              "  </thead>\n",
              "  <tbody>\n",
              "    <tr>\n",
              "      <th>0</th>\n",
              "      <td>34</td>\n",
              "      <td>No</td>\n",
              "      <td>Middle Income</td>\n",
              "      <td>6</td>\n",
              "      <td>No</td>\n",
              "      <td>Yes</td>\n",
              "      <td>0</td>\n",
              "    </tr>\n",
              "    <tr>\n",
              "      <th>1</th>\n",
              "      <td>34</td>\n",
              "      <td>Yes</td>\n",
              "      <td>Low Income</td>\n",
              "      <td>5</td>\n",
              "      <td>Yes</td>\n",
              "      <td>No</td>\n",
              "      <td>1</td>\n",
              "    </tr>\n",
              "    <tr>\n",
              "      <th>2</th>\n",
              "      <td>37</td>\n",
              "      <td>No</td>\n",
              "      <td>Middle Income</td>\n",
              "      <td>3</td>\n",
              "      <td>Yes</td>\n",
              "      <td>No</td>\n",
              "      <td>0</td>\n",
              "    </tr>\n",
              "    <tr>\n",
              "      <th>3</th>\n",
              "      <td>30</td>\n",
              "      <td>No</td>\n",
              "      <td>Middle Income</td>\n",
              "      <td>2</td>\n",
              "      <td>No</td>\n",
              "      <td>No</td>\n",
              "      <td>0</td>\n",
              "    </tr>\n",
              "    <tr>\n",
              "      <th>4</th>\n",
              "      <td>30</td>\n",
              "      <td>No</td>\n",
              "      <td>Low Income</td>\n",
              "      <td>1</td>\n",
              "      <td>No</td>\n",
              "      <td>No</td>\n",
              "      <td>0</td>\n",
              "    </tr>\n",
              "  </tbody>\n",
              "</table>\n",
              "</div>"
            ],
            "text/plain": [
              "   Age FrequentFlyer  ... BookedHotelOrNot  Target\n",
              "0   34            No  ...              Yes       0\n",
              "1   34           Yes  ...               No       1\n",
              "2   37            No  ...               No       0\n",
              "3   30            No  ...               No       0\n",
              "4   30            No  ...               No       0\n",
              "\n",
              "[5 rows x 7 columns]"
            ]
          },
          "metadata": {},
          "execution_count": 24
        }
      ]
    },
    {
      "cell_type": "code",
      "metadata": {
        "id": "OskMqEPGgN9n",
        "colab": {
          "base_uri": "https://localhost:8080/"
        },
        "outputId": "2e03c486-f40e-46d3-b9d7-0e1b8f49efe3"
      },
      "source": [
        "df.info()"
      ],
      "execution_count": null,
      "outputs": [
        {
          "output_type": "stream",
          "name": "stdout",
          "text": [
            "<class 'pandas.core.frame.DataFrame'>\n",
            "RangeIndex: 954 entries, 0 to 953\n",
            "Data columns (total 7 columns):\n",
            " #   Column                      Non-Null Count  Dtype \n",
            "---  ------                      --------------  ----- \n",
            " 0   Age                         954 non-null    int64 \n",
            " 1   FrequentFlyer               954 non-null    object\n",
            " 2   AnnualIncomeClass           954 non-null    object\n",
            " 3   ServicesOpted               954 non-null    int64 \n",
            " 4   AccountSyncedToSocialMedia  954 non-null    object\n",
            " 5   BookedHotelOrNot            954 non-null    object\n",
            " 6   Target                      954 non-null    int64 \n",
            "dtypes: int64(3), object(4)\n",
            "memory usage: 52.3+ KB\n"
          ]
        }
      ]
    },
    {
      "cell_type": "code",
      "metadata": {
        "id": "d-8D8lFggN9n",
        "colab": {
          "base_uri": "https://localhost:8080/"
        },
        "outputId": "8f6e015f-042c-405b-98b1-f99227ece1fe"
      },
      "source": [
        "df[\"FrequentFlyer\"].value_counts()"
      ],
      "execution_count": null,
      "outputs": [
        {
          "output_type": "execute_result",
          "data": {
            "text/plain": [
              "No           608\n",
              "Yes          286\n",
              "No Record     60\n",
              "Name: FrequentFlyer, dtype: int64"
            ]
          },
          "metadata": {},
          "execution_count": 6
        }
      ]
    },
    {
      "cell_type": "code",
      "metadata": {
        "colab": {
          "base_uri": "https://localhost:8080/"
        },
        "id": "Z2Qg2Da4l9Xg",
        "outputId": "c7b8a07b-956e-427e-c547-be733ba2e3ea"
      },
      "source": [
        "df[\"AnnualIncomeClass\"].value_counts()"
      ],
      "execution_count": null,
      "outputs": [
        {
          "output_type": "execute_result",
          "data": {
            "text/plain": [
              "Middle Income    409\n",
              "Low Income       386\n",
              "High Income      159\n",
              "Name: AnnualIncomeClass, dtype: int64"
            ]
          },
          "metadata": {},
          "execution_count": 7
        }
      ]
    },
    {
      "cell_type": "code",
      "metadata": {
        "colab": {
          "base_uri": "https://localhost:8080/"
        },
        "id": "TJruRbIRl-cu",
        "outputId": "9892ffbf-3e37-4504-a4e1-8cbc6c03aa38"
      },
      "source": [
        "df[\"AccountSyncedToSocialMedia\"].value_counts()"
      ],
      "execution_count": null,
      "outputs": [
        {
          "output_type": "execute_result",
          "data": {
            "text/plain": [
              "No     594\n",
              "Yes    360\n",
              "Name: AccountSyncedToSocialMedia, dtype: int64"
            ]
          },
          "metadata": {},
          "execution_count": 8
        }
      ]
    },
    {
      "cell_type": "code",
      "metadata": {
        "colab": {
          "base_uri": "https://localhost:8080/"
        },
        "id": "3Ml8Bky8l-Jv",
        "outputId": "cf59b1fd-52e7-4252-c737-e9f996974e2d"
      },
      "source": [
        "df[\"BookedHotelOrNot\"].value_counts()"
      ],
      "execution_count": null,
      "outputs": [
        {
          "output_type": "execute_result",
          "data": {
            "text/plain": [
              "No     576\n",
              "Yes    378\n",
              "Name: BookedHotelOrNot, dtype: int64"
            ]
          },
          "metadata": {},
          "execution_count": 9
        }
      ]
    },
    {
      "cell_type": "code",
      "metadata": {
        "id": "Y5ucW4JZgN9o",
        "colab": {
          "base_uri": "https://localhost:8080/",
          "height": 297
        },
        "outputId": "4e78880a-0f50-477c-e27c-536d25b4dfec"
      },
      "source": [
        "df.describe()"
      ],
      "execution_count": null,
      "outputs": [
        {
          "output_type": "execute_result",
          "data": {
            "text/html": [
              "<div>\n",
              "<style scoped>\n",
              "    .dataframe tbody tr th:only-of-type {\n",
              "        vertical-align: middle;\n",
              "    }\n",
              "\n",
              "    .dataframe tbody tr th {\n",
              "        vertical-align: top;\n",
              "    }\n",
              "\n",
              "    .dataframe thead th {\n",
              "        text-align: right;\n",
              "    }\n",
              "</style>\n",
              "<table border=\"1\" class=\"dataframe\">\n",
              "  <thead>\n",
              "    <tr style=\"text-align: right;\">\n",
              "      <th></th>\n",
              "      <th>Age</th>\n",
              "      <th>ServicesOpted</th>\n",
              "      <th>Target</th>\n",
              "    </tr>\n",
              "  </thead>\n",
              "  <tbody>\n",
              "    <tr>\n",
              "      <th>count</th>\n",
              "      <td>954.000000</td>\n",
              "      <td>954.000000</td>\n",
              "      <td>954.000000</td>\n",
              "    </tr>\n",
              "    <tr>\n",
              "      <th>mean</th>\n",
              "      <td>32.109015</td>\n",
              "      <td>2.437107</td>\n",
              "      <td>0.234801</td>\n",
              "    </tr>\n",
              "    <tr>\n",
              "      <th>std</th>\n",
              "      <td>3.337388</td>\n",
              "      <td>1.606233</td>\n",
              "      <td>0.424097</td>\n",
              "    </tr>\n",
              "    <tr>\n",
              "      <th>min</th>\n",
              "      <td>27.000000</td>\n",
              "      <td>1.000000</td>\n",
              "      <td>0.000000</td>\n",
              "    </tr>\n",
              "    <tr>\n",
              "      <th>25%</th>\n",
              "      <td>30.000000</td>\n",
              "      <td>1.000000</td>\n",
              "      <td>0.000000</td>\n",
              "    </tr>\n",
              "    <tr>\n",
              "      <th>50%</th>\n",
              "      <td>31.000000</td>\n",
              "      <td>2.000000</td>\n",
              "      <td>0.000000</td>\n",
              "    </tr>\n",
              "    <tr>\n",
              "      <th>75%</th>\n",
              "      <td>35.000000</td>\n",
              "      <td>4.000000</td>\n",
              "      <td>0.000000</td>\n",
              "    </tr>\n",
              "    <tr>\n",
              "      <th>max</th>\n",
              "      <td>38.000000</td>\n",
              "      <td>6.000000</td>\n",
              "      <td>1.000000</td>\n",
              "    </tr>\n",
              "  </tbody>\n",
              "</table>\n",
              "</div>"
            ],
            "text/plain": [
              "              Age  ServicesOpted      Target\n",
              "count  954.000000     954.000000  954.000000\n",
              "mean    32.109015       2.437107    0.234801\n",
              "std      3.337388       1.606233    0.424097\n",
              "min     27.000000       1.000000    0.000000\n",
              "25%     30.000000       1.000000    0.000000\n",
              "50%     31.000000       2.000000    0.000000\n",
              "75%     35.000000       4.000000    0.000000\n",
              "max     38.000000       6.000000    1.000000"
            ]
          },
          "metadata": {},
          "execution_count": 10
        }
      ]
    },
    {
      "cell_type": "code",
      "metadata": {
        "id": "cF5scnBhgN9o",
        "colab": {
          "base_uri": "https://localhost:8080/",
          "height": 1000
        },
        "outputId": "a6c4752e-e4d0-40be-aea7-716fdea07ace"
      },
      "source": [
        "%matplotlib inline\n",
        "import matplotlib.pyplot as plt\n",
        "df.hist(bins=10, figsize=(20,15))\n",
        "save_fig(\"attribute_histogram_plots\")\n",
        "plt.show()"
      ],
      "execution_count": null,
      "outputs": [
        {
          "output_type": "stream",
          "name": "stdout",
          "text": [
            "Saving figure attribute_histogram_plots\n"
          ]
        },
        {
          "output_type": "display_data",
          "data": {
            "image/png": "[encoded data removed]",
            "text/plain": [
              "<Figure size 1440x1080 with 4 Axes>"
            ]
          },
          "metadata": {
            "needs_background": "light"
          }
        }
      ]
    },
    {
      "cell_type": "markdown",
      "metadata": {
        "id": "Su9iutoJgN-W"
      },
      "source": [
        "## Looking for Correlations"
      ]
    },
    {
      "cell_type": "code",
      "metadata": {
        "id": "QeHALycJgN-W"
      },
      "source": [
        "corr_matrix = df.corr()"
      ],
      "execution_count": null,
      "outputs": []
    },
    {
      "cell_type": "code",
      "metadata": {
        "colab": {
          "base_uri": "https://localhost:8080/",
          "height": 290
        },
        "id": "g47pEtItrC54",
        "outputId": "9fcd09d3-1fac-413b-c8c0-6af02ca4cd62"
      },
      "source": [
        "import seaborn as sns\n",
        "sns.heatmap(corr_matrix,annot=True)"
      ],
      "execution_count": null,
      "outputs": [
        {
          "output_type": "execute_result",
          "data": {
            "text/plain": [
              "<matplotlib.axes._subplots.AxesSubplot at 0x7fcf1865ea90>"
            ]
          },
          "metadata": {},
          "execution_count": 14
        },
        {
          "output_type": "display_data",
          "data": {
            "image/png": "[encoded data removed]",
            "text/plain": [
              "<Figure size 432x288 with 2 Axes>"
            ]
          },
          "metadata": {
            "needs_background": "light"
          }
        }
      ]
    },
    {
      "cell_type": "code",
      "metadata": {
        "id": "rhkJZ8K2gN-X",
        "colab": {
          "base_uri": "https://localhost:8080/"
        },
        "outputId": "00f1ee33-689e-48da-ed3f-ad6687d98ee1"
      },
      "source": [
        "corr_matrix[\"Target\"].sort_values(ascending=False)"
      ],
      "execution_count": null,
      "outputs": [
        {
          "output_type": "execute_result",
          "data": {
            "text/plain": [
              "Target           1.000000\n",
              "ServicesOpted    0.038646\n",
              "Age             -0.131534\n",
              "Name: Target, dtype: float64"
            ]
          },
          "metadata": {},
          "execution_count": 15
        }
      ]
    },
    {
      "cell_type": "code",
      "metadata": {
        "colab": {
          "base_uri": "https://localhost:8080/",
          "height": 562
        },
        "id": "XA0cKh_WrgfO",
        "outputId": "d6224645-61ee-4a16-ff21-ee7c304d36cd"
      },
      "source": [
        "g = sns.PairGrid(df)\n",
        "g.map(sns.scatterplot)"
      ],
      "execution_count": null,
      "outputs": [
        {
          "output_type": "execute_result",
          "data": {
            "text/plain": [
              "<seaborn.axisgrid.PairGrid at 0x7fcf17e262d0>"
            ]
          },
          "metadata": {},
          "execution_count": 16
        },
        {
          "output_type": "display_data",
          "data": {
            "image/png": "[encoded data removed]",
            "text/plain": [
              "<Figure size 540x540 with 9 Axes>"
            ]
          },
          "metadata": {
            "needs_background": "light"
          }
        }
      ]
    },
    {
      "cell_type": "code",
      "metadata": {
        "colab": {
          "base_uri": "https://localhost:8080/",
          "height": 421
        },
        "id": "kfX4D80FxG4r",
        "outputId": "03d4c77f-03af-4a29-ee8c-d3d0f4b0f725"
      },
      "source": [
        "df_freq_norm= pd.crosstab(df['Age'],df['Target'], normalize='index')\n",
        "round(df_freq_norm*100,0)"
      ],
      "execution_count": null,
      "outputs": [
        {
          "output_type": "execute_result",
          "data": {
            "text/html": [
              "<div>\n",
              "<style scoped>\n",
              "    .dataframe tbody tr th:only-of-type {\n",
              "        vertical-align: middle;\n",
              "    }\n",
              "\n",
              "    .dataframe tbody tr th {\n",
              "        vertical-align: top;\n",
              "    }\n",
              "\n",
              "    .dataframe thead th {\n",
              "        text-align: right;\n",
              "    }\n",
              "</style>\n",
              "<table border=\"1\" class=\"dataframe\">\n",
              "  <thead>\n",
              "    <tr style=\"text-align: right;\">\n",
              "      <th>Target</th>\n",
              "      <th>0</th>\n",
              "      <th>1</th>\n",
              "    </tr>\n",
              "    <tr>\n",
              "      <th>Age</th>\n",
              "      <th></th>\n",
              "      <th></th>\n",
              "    </tr>\n",
              "  </thead>\n",
              "  <tbody>\n",
              "    <tr>\n",
              "      <th>27</th>\n",
              "      <td>44.0</td>\n",
              "      <td>56.0</td>\n",
              "    </tr>\n",
              "    <tr>\n",
              "      <th>28</th>\n",
              "      <td>44.0</td>\n",
              "      <td>56.0</td>\n",
              "    </tr>\n",
              "    <tr>\n",
              "      <th>29</th>\n",
              "      <td>81.0</td>\n",
              "      <td>19.0</td>\n",
              "    </tr>\n",
              "    <tr>\n",
              "      <th>30</th>\n",
              "      <td>86.0</td>\n",
              "      <td>14.0</td>\n",
              "    </tr>\n",
              "    <tr>\n",
              "      <th>31</th>\n",
              "      <td>85.0</td>\n",
              "      <td>15.0</td>\n",
              "    </tr>\n",
              "    <tr>\n",
              "      <th>33</th>\n",
              "      <td>72.0</td>\n",
              "      <td>28.0</td>\n",
              "    </tr>\n",
              "    <tr>\n",
              "      <th>34</th>\n",
              "      <td>81.0</td>\n",
              "      <td>19.0</td>\n",
              "    </tr>\n",
              "    <tr>\n",
              "      <th>35</th>\n",
              "      <td>75.0</td>\n",
              "      <td>25.0</td>\n",
              "    </tr>\n",
              "    <tr>\n",
              "      <th>36</th>\n",
              "      <td>76.0</td>\n",
              "      <td>24.0</td>\n",
              "    </tr>\n",
              "    <tr>\n",
              "      <th>37</th>\n",
              "      <td>79.0</td>\n",
              "      <td>21.0</td>\n",
              "    </tr>\n",
              "    <tr>\n",
              "      <th>38</th>\n",
              "      <td>90.0</td>\n",
              "      <td>10.0</td>\n",
              "    </tr>\n",
              "  </tbody>\n",
              "</table>\n",
              "</div>"
            ],
            "text/plain": [
              "Target     0     1\n",
              "Age               \n",
              "27      44.0  56.0\n",
              "28      44.0  56.0\n",
              "29      81.0  19.0\n",
              "30      86.0  14.0\n",
              "31      85.0  15.0\n",
              "33      72.0  28.0\n",
              "34      81.0  19.0\n",
              "35      75.0  25.0\n",
              "36      76.0  24.0\n",
              "37      79.0  21.0\n",
              "38      90.0  10.0"
            ]
          },
          "metadata": {},
          "execution_count": 17
        }
      ]
    },
    {
      "cell_type": "code",
      "metadata": {
        "colab": {
          "base_uri": "https://localhost:8080/",
          "height": 173
        },
        "id": "OmYXIrvGxG0S",
        "outputId": "ff1ee586-8654-4893-90cc-b221b59fa023"
      },
      "source": [
        "df_freq_norm= pd.crosstab(df['FrequentFlyer'],df['Target'], normalize='index')\n",
        "round(df_freq_norm*100,0)"
      ],
      "execution_count": null,
      "outputs": [
        {
          "output_type": "execute_result",
          "data": {
            "text/html": [
              "<div>\n",
              "<style scoped>\n",
              "    .dataframe tbody tr th:only-of-type {\n",
              "        vertical-align: middle;\n",
              "    }\n",
              "\n",
              "    .dataframe tbody tr th {\n",
              "        vertical-align: top;\n",
              "    }\n",
              "\n",
              "    .dataframe thead th {\n",
              "        text-align: right;\n",
              "    }\n",
              "</style>\n",
              "<table border=\"1\" class=\"dataframe\">\n",
              "  <thead>\n",
              "    <tr style=\"text-align: right;\">\n",
              "      <th>Target</th>\n",
              "      <th>0</th>\n",
              "      <th>1</th>\n",
              "    </tr>\n",
              "    <tr>\n",
              "      <th>FrequentFlyer</th>\n",
              "      <th></th>\n",
              "      <th></th>\n",
              "    </tr>\n",
              "  </thead>\n",
              "  <tbody>\n",
              "    <tr>\n",
              "      <th>No</th>\n",
              "      <td>89.0</td>\n",
              "      <td>11.0</td>\n",
              "    </tr>\n",
              "    <tr>\n",
              "      <th>No Record</th>\n",
              "      <td>87.0</td>\n",
              "      <td>13.0</td>\n",
              "    </tr>\n",
              "    <tr>\n",
              "      <th>Yes</th>\n",
              "      <td>49.0</td>\n",
              "      <td>51.0</td>\n",
              "    </tr>\n",
              "  </tbody>\n",
              "</table>\n",
              "</div>"
            ],
            "text/plain": [
              "Target            0     1\n",
              "FrequentFlyer            \n",
              "No             89.0  11.0\n",
              "No Record      87.0  13.0\n",
              "Yes            49.0  51.0"
            ]
          },
          "metadata": {},
          "execution_count": 18
        }
      ]
    },
    {
      "cell_type": "code",
      "metadata": {
        "colab": {
          "base_uri": "https://localhost:8080/",
          "height": 173
        },
        "id": "iH41lAVsxGvT",
        "outputId": "f0fe4b14-a289-4c1b-bd21-aed4238efe8b"
      },
      "source": [
        "df_freq_norm= pd.crosstab(df['AnnualIncomeClass'],df['Target'], normalize='index')\n",
        "round(df_freq_norm*100,0)"
      ],
      "execution_count": null,
      "outputs": [
        {
          "output_type": "execute_result",
          "data": {
            "text/html": [
              "<div>\n",
              "<style scoped>\n",
              "    .dataframe tbody tr th:only-of-type {\n",
              "        vertical-align: middle;\n",
              "    }\n",
              "\n",
              "    .dataframe tbody tr th {\n",
              "        vertical-align: top;\n",
              "    }\n",
              "\n",
              "    .dataframe thead th {\n",
              "        text-align: right;\n",
              "    }\n",
              "</style>\n",
              "<table border=\"1\" class=\"dataframe\">\n",
              "  <thead>\n",
              "    <tr style=\"text-align: right;\">\n",
              "      <th>Target</th>\n",
              "      <th>0</th>\n",
              "      <th>1</th>\n",
              "    </tr>\n",
              "    <tr>\n",
              "      <th>AnnualIncomeClass</th>\n",
              "      <th></th>\n",
              "      <th></th>\n",
              "    </tr>\n",
              "  </thead>\n",
              "  <tbody>\n",
              "    <tr>\n",
              "      <th>High Income</th>\n",
              "      <td>42.0</td>\n",
              "      <td>58.0</td>\n",
              "    </tr>\n",
              "    <tr>\n",
              "      <th>Low Income</th>\n",
              "      <td>73.0</td>\n",
              "      <td>27.0</td>\n",
              "    </tr>\n",
              "    <tr>\n",
              "      <th>Middle Income</th>\n",
              "      <td>93.0</td>\n",
              "      <td>7.0</td>\n",
              "    </tr>\n",
              "  </tbody>\n",
              "</table>\n",
              "</div>"
            ],
            "text/plain": [
              "Target                0     1\n",
              "AnnualIncomeClass            \n",
              "High Income        42.0  58.0\n",
              "Low Income         73.0  27.0\n",
              "Middle Income      93.0   7.0"
            ]
          },
          "metadata": {},
          "execution_count": 19
        }
      ]
    },
    {
      "cell_type": "code",
      "metadata": {
        "colab": {
          "base_uri": "https://localhost:8080/",
          "height": 266
        },
        "id": "9znE5KVmxGpp",
        "outputId": "2a95e485-5957-4397-80e4-a9f6d40bf343"
      },
      "source": [
        "df_freq_norm= pd.crosstab(df['ServicesOpted'],df['Target'], normalize='index')\n",
        "round(df_freq_norm*100,0)"
      ],
      "execution_count": null,
      "outputs": [
        {
          "output_type": "execute_result",
          "data": {
            "text/html": [
              "<div>\n",
              "<style scoped>\n",
              "    .dataframe tbody tr th:only-of-type {\n",
              "        vertical-align: middle;\n",
              "    }\n",
              "\n",
              "    .dataframe tbody tr th {\n",
              "        vertical-align: top;\n",
              "    }\n",
              "\n",
              "    .dataframe thead th {\n",
              "        text-align: right;\n",
              "    }\n",
              "</style>\n",
              "<table border=\"1\" class=\"dataframe\">\n",
              "  <thead>\n",
              "    <tr style=\"text-align: right;\">\n",
              "      <th>Target</th>\n",
              "      <th>0</th>\n",
              "      <th>1</th>\n",
              "    </tr>\n",
              "    <tr>\n",
              "      <th>ServicesOpted</th>\n",
              "      <th></th>\n",
              "      <th></th>\n",
              "    </tr>\n",
              "  </thead>\n",
              "  <tbody>\n",
              "    <tr>\n",
              "      <th>1</th>\n",
              "      <td>77.0</td>\n",
              "      <td>23.0</td>\n",
              "    </tr>\n",
              "    <tr>\n",
              "      <th>2</th>\n",
              "      <td>70.0</td>\n",
              "      <td>30.0</td>\n",
              "    </tr>\n",
              "    <tr>\n",
              "      <th>3</th>\n",
              "      <td>92.0</td>\n",
              "      <td>8.0</td>\n",
              "    </tr>\n",
              "    <tr>\n",
              "      <th>4</th>\n",
              "      <td>81.0</td>\n",
              "      <td>19.0</td>\n",
              "    </tr>\n",
              "    <tr>\n",
              "      <th>5</th>\n",
              "      <td>62.0</td>\n",
              "      <td>38.0</td>\n",
              "    </tr>\n",
              "    <tr>\n",
              "      <th>6</th>\n",
              "      <td>67.0</td>\n",
              "      <td>33.0</td>\n",
              "    </tr>\n",
              "  </tbody>\n",
              "</table>\n",
              "</div>"
            ],
            "text/plain": [
              "Target            0     1\n",
              "ServicesOpted            \n",
              "1              77.0  23.0\n",
              "2              70.0  30.0\n",
              "3              92.0   8.0\n",
              "4              81.0  19.0\n",
              "5              62.0  38.0\n",
              "6              67.0  33.0"
            ]
          },
          "metadata": {},
          "execution_count": 20
        }
      ]
    },
    {
      "cell_type": "code",
      "metadata": {
        "colab": {
          "base_uri": "https://localhost:8080/",
          "height": 142
        },
        "id": "3SdUsO_lxGkI",
        "outputId": "daa1d95c-7e73-4655-84a9-22a9d609d7bc"
      },
      "source": [
        "df_freq_norm= pd.crosstab(df['AccountSyncedToSocialMedia'],df['Target'], normalize='index')\n",
        "round(df_freq_norm*100,0)"
      ],
      "execution_count": null,
      "outputs": [
        {
          "output_type": "execute_result",
          "data": {
            "text/html": [
              "<div>\n",
              "<style scoped>\n",
              "    .dataframe tbody tr th:only-of-type {\n",
              "        vertical-align: middle;\n",
              "    }\n",
              "\n",
              "    .dataframe tbody tr th {\n",
              "        vertical-align: top;\n",
              "    }\n",
              "\n",
              "    .dataframe thead th {\n",
              "        text-align: right;\n",
              "    }\n",
              "</style>\n",
              "<table border=\"1\" class=\"dataframe\">\n",
              "  <thead>\n",
              "    <tr style=\"text-align: right;\">\n",
              "      <th>Target</th>\n",
              "      <th>0</th>\n",
              "      <th>1</th>\n",
              "    </tr>\n",
              "    <tr>\n",
              "      <th>AccountSyncedToSocialMedia</th>\n",
              "      <th></th>\n",
              "      <th></th>\n",
              "    </tr>\n",
              "  </thead>\n",
              "  <tbody>\n",
              "    <tr>\n",
              "      <th>No</th>\n",
              "      <td>79.0</td>\n",
              "      <td>21.0</td>\n",
              "    </tr>\n",
              "    <tr>\n",
              "      <th>Yes</th>\n",
              "      <td>72.0</td>\n",
              "      <td>28.0</td>\n",
              "    </tr>\n",
              "  </tbody>\n",
              "</table>\n",
              "</div>"
            ],
            "text/plain": [
              "Target                         0     1\n",
              "AccountSyncedToSocialMedia            \n",
              "No                          79.0  21.0\n",
              "Yes                         72.0  28.0"
            ]
          },
          "metadata": {},
          "execution_count": 21
        }
      ]
    },
    {
      "cell_type": "code",
      "metadata": {
        "colab": {
          "base_uri": "https://localhost:8080/",
          "height": 142
        },
        "id": "8usNQyGbxGdK",
        "outputId": "8bf1c5d5-cb8f-4472-94e7-730c58b406cc"
      },
      "source": [
        "df_freq_norm= pd.crosstab(df['BookedHotelOrNot'],df['Target'], normalize='index')\n",
        "round(df_freq_norm*100,0)"
      ],
      "execution_count": null,
      "outputs": [
        {
          "output_type": "execute_result",
          "data": {
            "text/html": [
              "<div>\n",
              "<style scoped>\n",
              "    .dataframe tbody tr th:only-of-type {\n",
              "        vertical-align: middle;\n",
              "    }\n",
              "\n",
              "    .dataframe tbody tr th {\n",
              "        vertical-align: top;\n",
              "    }\n",
              "\n",
              "    .dataframe thead th {\n",
              "        text-align: right;\n",
              "    }\n",
              "</style>\n",
              "<table border=\"1\" class=\"dataframe\">\n",
              "  <thead>\n",
              "    <tr style=\"text-align: right;\">\n",
              "      <th>Target</th>\n",
              "      <th>0</th>\n",
              "      <th>1</th>\n",
              "    </tr>\n",
              "    <tr>\n",
              "      <th>BookedHotelOrNot</th>\n",
              "      <th></th>\n",
              "      <th></th>\n",
              "    </tr>\n",
              "  </thead>\n",
              "  <tbody>\n",
              "    <tr>\n",
              "      <th>No</th>\n",
              "      <td>69.0</td>\n",
              "      <td>31.0</td>\n",
              "    </tr>\n",
              "    <tr>\n",
              "      <th>Yes</th>\n",
              "      <td>87.0</td>\n",
              "      <td>13.0</td>\n",
              "    </tr>\n",
              "  </tbody>\n",
              "</table>\n",
              "</div>"
            ],
            "text/plain": [
              "Target               0     1\n",
              "BookedHotelOrNot            \n",
              "No                69.0  31.0\n",
              "Yes               87.0  13.0"
            ]
          },
          "metadata": {},
          "execution_count": 22
        }
      ]
    },
    {
      "cell_type": "code",
      "metadata": {
        "id": "rY4QWQ_IZQYA"
      },
      "source": [
        "from sklearn.model_selection import train_test_split\n",
        "from sklearn.preprocessing import StandardScaler"
      ],
      "execution_count": null,
      "outputs": []
    },
    {
      "cell_type": "code",
      "metadata": {
        "id": "LsqN7ETnZQ6C"
      },
      "source": [
        "df_num=pd.get_dummies(df,drop_first=True)"
      ],
      "execution_count": null,
      "outputs": []
    },
    {
      "cell_type": "code",
      "metadata": {
        "colab": {
          "base_uri": "https://localhost:8080/",
          "height": 111
        },
        "id": "ln7ObB1JZSKg",
        "outputId": "0fc40776-c2f0-48d0-fc56-d469497fe63c"
      },
      "source": [
        "df_num.head(2)"
      ],
      "execution_count": null,
      "outputs": [
        {
          "output_type": "execute_result",
          "data": {
            "text/html": [
              "<div>\n",
              "<style scoped>\n",
              "    .dataframe tbody tr th:only-of-type {\n",
              "        vertical-align: middle;\n",
              "    }\n",
              "\n",
              "    .dataframe tbody tr th {\n",
              "        vertical-align: top;\n",
              "    }\n",
              "\n",
              "    .dataframe thead th {\n",
              "        text-align: right;\n",
              "    }\n",
              "</style>\n",
              "<table border=\"1\" class=\"dataframe\">\n",
              "  <thead>\n",
              "    <tr style=\"text-align: right;\">\n",
              "      <th></th>\n",
              "      <th>Age</th>\n",
              "      <th>ServicesOpted</th>\n",
              "      <th>Target</th>\n",
              "      <th>FrequentFlyer_No Record</th>\n",
              "      <th>FrequentFlyer_Yes</th>\n",
              "      <th>AnnualIncomeClass_Low Income</th>\n",
              "      <th>AnnualIncomeClass_Middle Income</th>\n",
              "      <th>AccountSyncedToSocialMedia_Yes</th>\n",
              "      <th>BookedHotelOrNot_Yes</th>\n",
              "    </tr>\n",
              "  </thead>\n",
              "  <tbody>\n",
              "    <tr>\n",
              "      <th>0</th>\n",
              "      <td>34</td>\n",
              "      <td>6</td>\n",
              "      <td>0</td>\n",
              "      <td>0</td>\n",
              "      <td>0</td>\n",
              "      <td>0</td>\n",
              "      <td>1</td>\n",
              "      <td>0</td>\n",
              "      <td>1</td>\n",
              "    </tr>\n",
              "    <tr>\n",
              "      <th>1</th>\n",
              "      <td>34</td>\n",
              "      <td>5</td>\n",
              "      <td>1</td>\n",
              "      <td>0</td>\n",
              "      <td>1</td>\n",
              "      <td>1</td>\n",
              "      <td>0</td>\n",
              "      <td>1</td>\n",
              "      <td>0</td>\n",
              "    </tr>\n",
              "  </tbody>\n",
              "</table>\n",
              "</div>"
            ],
            "text/plain": [
              "   Age  ServicesOpted  ...  AccountSyncedToSocialMedia_Yes  BookedHotelOrNot_Yes\n",
              "0   34              6  ...                               0                     1\n",
              "1   34              5  ...                               1                     0\n",
              "\n",
              "[2 rows x 9 columns]"
            ]
          },
          "metadata": {},
          "execution_count": 28
        }
      ]
    },
    {
      "cell_type": "code",
      "metadata": {
        "id": "3EAuxg2EZTvB"
      },
      "source": [
        "corr_matrix_num = df_num.corr()"
      ],
      "execution_count": null,
      "outputs": []
    },
    {
      "cell_type": "code",
      "metadata": {
        "colab": {
          "base_uri": "https://localhost:8080/"
        },
        "id": "ck8_S3fGZXgw",
        "outputId": "f920f89b-669e-4467-a2e3-fa6c1371e956"
      },
      "source": [
        "corr_matrix_num[\"Target\"].sort_values(ascending=False)"
      ],
      "execution_count": null,
      "outputs": [
        {
          "output_type": "execute_result",
          "data": {
            "text/plain": [
              "Target                             1.000000\n",
              "FrequentFlyer_Yes                  0.430973\n",
              "AccountSyncedToSocialMedia_Yes     0.073831\n",
              "AnnualIncomeClass_Low Income       0.067348\n",
              "ServicesOpted                      0.038646\n",
              "FrequentFlyer_No Record           -0.062015\n",
              "Age                               -0.131534\n",
              "BookedHotelOrNot_Yes              -0.206055\n",
              "AnnualIncomeClass_Middle Income   -0.339959\n",
              "Name: Target, dtype: float64"
            ]
          },
          "metadata": {},
          "execution_count": 30
        }
      ]
    },
    {
      "cell_type": "code",
      "metadata": {
        "colab": {
          "base_uri": "https://localhost:8080/",
          "height": 598
        },
        "id": "GZwsHQhsZZ5Y",
        "outputId": "01568b51-cc2d-4ba1-8ea3-0d044937eec5"
      },
      "source": [
        "plt.figure(figsize = (10,6))\n",
        "sns.heatmap(corr_matrix_num,annot=True,cmap='Blues')"
      ],
      "execution_count": null,
      "outputs": [
        {
          "output_type": "execute_result",
          "data": {
            "text/plain": [
              "<matplotlib.axes._subplots.AxesSubplot at 0x7fcf1893e4d0>"
            ]
          },
          "metadata": {},
          "execution_count": 31
        },
        {
          "output_type": "display_data",
          "data": {
            "image/png": "[encoded data removed]",
            "text/plain": [
              "<Figure size 720x432 with 2 Axes>"
            ]
          },
          "metadata": {
            "needs_background": "light"
          }
        }
      ]
    },
    {
      "cell_type": "code",
      "metadata": {
        "id": "ABJEcWaUZhtq"
      },
      "source": [
        "X_train_full, X_test, y_train_full, y_test = train_test_split(df_num.drop(columns='Target'), df_num['Target'], random_state=42)\n",
        "X_train, X_valid, y_train, y_valid = train_test_split(X_train_full, y_train_full, random_state=42)\n",
        "\n",
        "scaler = StandardScaler()\n",
        "X_train = scaler.fit_transform(X_train)\n",
        "X_valid = scaler.transform(X_valid)\n",
        "X_test = scaler.transform(X_test)"
      ],
      "execution_count": null,
      "outputs": []
    },
    {
      "cell_type": "code",
      "metadata": {
        "id": "7jS8XmxnZpMI"
      },
      "source": [
        "from tensorflow import keras\n",
        "model = keras.models.Sequential()\n",
        "model.add(keras.layers.Flatten(input_shape=X_train.shape[1:]))\n",
        "model.add(keras.layers.Dense(120, activation=\"relu\"))\n",
        "model.add(keras.layers.Dropout(rate=0.2))\n",
        "model.add(keras.layers.Dense(80, activation=\"relu\"))\n",
        "model.add(keras.layers.Dropout(rate=0.2))\n",
        "model.add(keras.layers.Dense(30, activation=\"relu\"))\n",
        "model.add(keras.layers.Dropout(rate=0.2))\n",
        "model.add(keras.layers.Dense(2, activation=\"softmax\"))"
      ],
      "execution_count": null,
      "outputs": []
    },
    {
      "cell_type": "code",
      "metadata": {
        "id": "7fz9z58JZq2P"
      },
      "source": [
        "model.compile(loss=\"sparse_categorical_crossentropy\",\n",
        "              optimizer=\"sgd\",\n",
        "              metrics=[\"accuracy\"])"
      ],
      "execution_count": null,
      "outputs": []
    },
    {
      "cell_type": "code",
      "metadata": {
        "colab": {
          "base_uri": "https://localhost:8080/"
        },
        "id": "3ktsoOkNZsLQ",
        "outputId": "e817c7fa-412a-446e-9b3c-d969fc7f9136"
      },
      "source": [
        "history = model.fit(X_train, y_train, epochs=50,\n",
        "                    validation_data=(X_valid, y_valid))"
      ],
      "execution_count": null,
      "outputs": [
        {
          "output_type": "stream",
          "name": "stdout",
          "text": [
            "Epoch 1/50\n",
            "17/17 [==============================] - 1s 13ms/step - loss: 0.6487 - accuracy: 0.6996 - val_loss: 0.6372 - val_accuracy: 0.7151\n",
            "Epoch 2/50\n",
            "17/17 [==============================] - 0s 4ms/step - loss: 0.6186 - accuracy: 0.7612 - val_loss: 0.6172 - val_accuracy: 0.7151\n",
            "Epoch 3/50\n",
            "17/17 [==============================] - 0s 3ms/step - loss: 0.5853 - accuracy: 0.7687 - val_loss: 0.6035 - val_accuracy: 0.7151\n",
            "Epoch 4/50\n",
            "17/17 [==============================] - 0s 5ms/step - loss: 0.5826 - accuracy: 0.7649 - val_loss: 0.5921 - val_accuracy: 0.7151\n",
            "Epoch 5/50\n",
            "17/17 [==============================] - 0s 4ms/step - loss: 0.5567 - accuracy: 0.7668 - val_loss: 0.5825 - val_accuracy: 0.7151\n",
            "Epoch 6/50\n",
            "17/17 [==============================] - 0s 4ms/step - loss: 0.5520 - accuracy: 0.7668 - val_loss: 0.5742 - val_accuracy: 0.7151\n",
            "Epoch 7/50\n",
            "17/17 [==============================] - 0s 4ms/step - loss: 0.5418 - accuracy: 0.7668 - val_loss: 0.5668 - val_accuracy: 0.7151\n",
            "Epoch 8/50\n",
            "17/17 [==============================] - 0s 4ms/step - loss: 0.5283 - accuracy: 0.7668 - val_loss: 0.5603 - val_accuracy: 0.7151\n",
            "Epoch 9/50\n",
            "17/17 [==============================] - 0s 4ms/step - loss: 0.5224 - accuracy: 0.7668 - val_loss: 0.5534 - val_accuracy: 0.7151\n",
            "Epoch 10/50\n",
            "17/17 [==============================] - 0s 4ms/step - loss: 0.5152 - accuracy: 0.7668 - val_loss: 0.5471 - val_accuracy: 0.7151\n",
            "Epoch 11/50\n",
            "17/17 [==============================] - 0s 4ms/step - loss: 0.5154 - accuracy: 0.7668 - val_loss: 0.5411 - val_accuracy: 0.7151\n",
            "Epoch 12/50\n",
            "17/17 [==============================] - 0s 4ms/step - loss: 0.5144 - accuracy: 0.7668 - val_loss: 0.5343 - val_accuracy: 0.7151\n",
            "Epoch 13/50\n",
            "17/17 [==============================] - 0s 5ms/step - loss: 0.5069 - accuracy: 0.7668 - val_loss: 0.5286 - val_accuracy: 0.7151\n",
            "Epoch 14/50\n",
            "17/17 [==============================] - 0s 5ms/step - loss: 0.4879 - accuracy: 0.7705 - val_loss: 0.5218 - val_accuracy: 0.7151\n",
            "Epoch 15/50\n",
            "17/17 [==============================] - 0s 3ms/step - loss: 0.4886 - accuracy: 0.7705 - val_loss: 0.5153 - val_accuracy: 0.7151\n",
            "Epoch 16/50\n",
            "17/17 [==============================] - 0s 3ms/step - loss: 0.4937 - accuracy: 0.7761 - val_loss: 0.5102 - val_accuracy: 0.7151\n",
            "Epoch 17/50\n",
            "17/17 [==============================] - 0s 5ms/step - loss: 0.4820 - accuracy: 0.7705 - val_loss: 0.5054 - val_accuracy: 0.7151\n",
            "Epoch 18/50\n",
            "17/17 [==============================] - 0s 4ms/step - loss: 0.4761 - accuracy: 0.7724 - val_loss: 0.4996 - val_accuracy: 0.7151\n",
            "Epoch 19/50\n",
            "17/17 [==============================] - 0s 4ms/step - loss: 0.4725 - accuracy: 0.7724 - val_loss: 0.4940 - val_accuracy: 0.7151\n",
            "Epoch 20/50\n",
            "17/17 [==============================] - 0s 4ms/step - loss: 0.4699 - accuracy: 0.7799 - val_loss: 0.4882 - val_accuracy: 0.7430\n",
            "Epoch 21/50\n",
            "17/17 [==============================] - 0s 3ms/step - loss: 0.4533 - accuracy: 0.7817 - val_loss: 0.4831 - val_accuracy: 0.7486\n",
            "Epoch 22/50\n",
            "17/17 [==============================] - 0s 3ms/step - loss: 0.4600 - accuracy: 0.7836 - val_loss: 0.4788 - val_accuracy: 0.7598\n",
            "Epoch 23/50\n",
            "17/17 [==============================] - 0s 4ms/step - loss: 0.4569 - accuracy: 0.7743 - val_loss: 0.4746 - val_accuracy: 0.7598\n",
            "Epoch 24/50\n",
            "17/17 [==============================] - 0s 5ms/step - loss: 0.4538 - accuracy: 0.7892 - val_loss: 0.4704 - val_accuracy: 0.7654\n",
            "Epoch 25/50\n",
            "17/17 [==============================] - 0s 5ms/step - loss: 0.4539 - accuracy: 0.7910 - val_loss: 0.4669 - val_accuracy: 0.7654\n",
            "Epoch 26/50\n",
            "17/17 [==============================] - 0s 6ms/step - loss: 0.4475 - accuracy: 0.7780 - val_loss: 0.4632 - val_accuracy: 0.7709\n",
            "Epoch 27/50\n",
            "17/17 [==============================] - 0s 4ms/step - loss: 0.4478 - accuracy: 0.7780 - val_loss: 0.4594 - val_accuracy: 0.7709\n",
            "Epoch 28/50\n",
            "17/17 [==============================] - 0s 3ms/step - loss: 0.4376 - accuracy: 0.7892 - val_loss: 0.4564 - val_accuracy: 0.7709\n",
            "Epoch 29/50\n",
            "17/17 [==============================] - 0s 4ms/step - loss: 0.4356 - accuracy: 0.7948 - val_loss: 0.4534 - val_accuracy: 0.7654\n",
            "Epoch 30/50\n",
            "17/17 [==============================] - 0s 4ms/step - loss: 0.4243 - accuracy: 0.7687 - val_loss: 0.4507 - val_accuracy: 0.7709\n",
            "Epoch 31/50\n",
            "17/17 [==============================] - 0s 4ms/step - loss: 0.4237 - accuracy: 0.7873 - val_loss: 0.4468 - val_accuracy: 0.7765\n",
            "Epoch 32/50\n",
            "17/17 [==============================] - 0s 4ms/step - loss: 0.4244 - accuracy: 0.7966 - val_loss: 0.4440 - val_accuracy: 0.7765\n",
            "Epoch 33/50\n",
            "17/17 [==============================] - 0s 4ms/step - loss: 0.4299 - accuracy: 0.7873 - val_loss: 0.4406 - val_accuracy: 0.7765\n",
            "Epoch 34/50\n",
            "17/17 [==============================] - 0s 5ms/step - loss: 0.4259 - accuracy: 0.7929 - val_loss: 0.4383 - val_accuracy: 0.7821\n",
            "Epoch 35/50\n",
            "17/17 [==============================] - 0s 5ms/step - loss: 0.4281 - accuracy: 0.7854 - val_loss: 0.4355 - val_accuracy: 0.7821\n",
            "Epoch 36/50\n",
            "17/17 [==============================] - 0s 5ms/step - loss: 0.4360 - accuracy: 0.7873 - val_loss: 0.4331 - val_accuracy: 0.7821\n",
            "Epoch 37/50\n",
            "17/17 [==============================] - 0s 5ms/step - loss: 0.4225 - accuracy: 0.7892 - val_loss: 0.4310 - val_accuracy: 0.7765\n",
            "Epoch 38/50\n",
            "17/17 [==============================] - 0s 5ms/step - loss: 0.4295 - accuracy: 0.7892 - val_loss: 0.4282 - val_accuracy: 0.7877\n",
            "Epoch 39/50\n",
            "17/17 [==============================] - 0s 4ms/step - loss: 0.4112 - accuracy: 0.8022 - val_loss: 0.4259 - val_accuracy: 0.7877\n",
            "Epoch 40/50\n",
            "17/17 [==============================] - 0s 5ms/step - loss: 0.4083 - accuracy: 0.8060 - val_loss: 0.4240 - val_accuracy: 0.7877\n",
            "Epoch 41/50\n",
            "17/17 [==============================] - 0s 4ms/step - loss: 0.4203 - accuracy: 0.7985 - val_loss: 0.4221 - val_accuracy: 0.7821\n",
            "Epoch 42/50\n",
            "17/17 [==============================] - 0s 4ms/step - loss: 0.4054 - accuracy: 0.7948 - val_loss: 0.4201 - val_accuracy: 0.7877\n",
            "Epoch 43/50\n",
            "17/17 [==============================] - 0s 4ms/step - loss: 0.4156 - accuracy: 0.7873 - val_loss: 0.4187 - val_accuracy: 0.7877\n",
            "Epoch 44/50\n",
            "17/17 [==============================] - 0s 4ms/step - loss: 0.4089 - accuracy: 0.7966 - val_loss: 0.4173 - val_accuracy: 0.7933\n",
            "Epoch 45/50\n",
            "17/17 [==============================] - 0s 4ms/step - loss: 0.4055 - accuracy: 0.8022 - val_loss: 0.4160 - val_accuracy: 0.7989\n",
            "Epoch 46/50\n",
            "17/17 [==============================] - 0s 5ms/step - loss: 0.3976 - accuracy: 0.7966 - val_loss: 0.4146 - val_accuracy: 0.8156\n",
            "Epoch 47/50\n",
            "17/17 [==============================] - 0s 4ms/step - loss: 0.4058 - accuracy: 0.8004 - val_loss: 0.4125 - val_accuracy: 0.8156\n",
            "Epoch 48/50\n",
            "17/17 [==============================] - 0s 4ms/step - loss: 0.4090 - accuracy: 0.7799 - val_loss: 0.4110 - val_accuracy: 0.8268\n",
            "Epoch 49/50\n",
            "17/17 [==============================] - 0s 5ms/step - loss: 0.3951 - accuracy: 0.8153 - val_loss: 0.4100 - val_accuracy: 0.8268\n",
            "Epoch 50/50\n",
            "17/17 [==============================] - 0s 3ms/step - loss: 0.4072 - accuracy: 0.8022 - val_loss: 0.4088 - val_accuracy: 0.8268\n"
          ]
        }
      ]
    },
    {
      "cell_type": "code",
      "metadata": {
        "colab": {
          "base_uri": "https://localhost:8080/",
          "height": 328
        },
        "id": "Eoj02Ky3Ztjg",
        "outputId": "80543eca-c0be-4ad1-b2f2-4045d5dbd3bf"
      },
      "source": [
        "pd.DataFrame(history.history).plot(figsize=(8, 5))\n",
        "plt.grid(True)\n",
        "plt.gca().set_ylim(0, 1)\n",
        "# save_fig(\"keras_learning_curves_plot\")\n",
        "plt.show()"
      ],
      "execution_count": null,
      "outputs": [
        {
          "output_type": "display_data",
          "data": {
            "image/png": "[encoded data removed]",
            "text/plain": [
              "<Figure size 576x360 with 1 Axes>"
            ]
          },
          "metadata": {
            "needs_background": "light"
          }
        }
      ]
    },
    {
      "cell_type": "code",
      "metadata": {
        "colab": {
          "base_uri": "https://localhost:8080/"
        },
        "id": "8LdjTk_OZw7K",
        "outputId": "09197753-2f55-4f40-9c55-e96f20156a20"
      },
      "source": [
        "model.evaluate(X_test, y_test)"
      ],
      "execution_count": null,
      "outputs": [
        {
          "output_type": "stream",
          "name": "stdout",
          "text": [
            "8/8 [==============================] - 0s 2ms/step - loss: 0.3635 - accuracy: 0.8285\n"
          ]
        },
        {
          "output_type": "execute_result",
          "data": {
            "text/plain": [
              "[0.3634549379348755, 0.8284518718719482]"
            ]
          },
          "metadata": {},
          "execution_count": 44
        }
      ]
    },
    {
      "cell_type": "code",
      "metadata": {
        "colab": {
          "base_uri": "https://localhost:8080/"
        },
        "id": "y2XlghU7Z2Cw",
        "outputId": "61efb37b-11e7-44c5-9c29-20eff6a8ca80"
      },
      "source": [
        "model.summary()"
      ],
      "execution_count": null,
      "outputs": [
        {
          "output_type": "stream",
          "name": "stdout",
          "text": [
            "Model: \"sequential_1\"\n",
            "_________________________________________________________________\n",
            " Layer (type)                Output Shape              Param #   \n",
            "=================================================================\n",
            " flatten_1 (Flatten)         (None, 8)                 0         \n",
            "                                                                 \n",
            " dense_4 (Dense)             (None, 120)               1080      \n",
            "                                                                 \n",
            " dropout_3 (Dropout)         (None, 120)               0         \n",
            "                                                                 \n",
            " dense_5 (Dense)             (None, 80)                9680      \n",
            "                                                                 \n",
            " dropout_4 (Dropout)         (None, 80)                0         \n",
            "                                                                 \n",
            " dense_6 (Dense)             (None, 30)                2430      \n",
            "                                                                 \n",
            " dropout_5 (Dropout)         (None, 30)                0         \n",
            "                                                                 \n",
            " dense_7 (Dense)             (None, 2)                 62        \n",
            "                                                                 \n",
            "=================================================================\n",
            "Total params: 13,252\n",
            "Trainable params: 13,252\n",
            "Non-trainable params: 0\n",
            "_________________________________________________________________\n"
          ]
        }
      ]
    },
    {
      "cell_type": "code",
      "metadata": {
        "colab": {
          "base_uri": "https://localhost:8080/",
          "height": 976
        },
        "id": "r4cYNjpMZzCx",
        "outputId": "bc60802b-3b8e-4cd4-d6fa-ee6c642f0d44"
      },
      "source": [
        "keras.utils.plot_model(model, \"Travel_Churn.png\", show_shapes=True)"
      ],
      "execution_count": null,
      "outputs": [
        {
          "output_type": "execute_result",
          "data": {
            "image/png": "[encoded data removed]",
            "text/plain": [
              "<IPython.core.display.Image object>"
            ]
          },
          "metadata": {},
          "execution_count": 46
        }
      ]
    },
    {
      "cell_type": "code",
      "metadata": {
        "id": "K7QJ59HJaA6Q"
      },
      "source": [
        ""
      ],
      "execution_count": null,
      "outputs": []
    }
  ]
}