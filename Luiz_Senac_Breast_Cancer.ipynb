{
  "nbformat": 4,
  "nbformat_minor": 0,
  "metadata": {
    "colab": {
      "name": "Luiz_Senac_Breast_Cancer.ipynb",
      "provenance": [],
      "collapsed_sections": [],
      "include_colab_link": true
    },
    "kernelspec": {
      "display_name": "Python 3",
      "name": "python3"
    },
    "language_info": {
      "name": "python"
    }
  },
  "cells": [
    {
      "cell_type": "markdown",
      "metadata": {
        "id": "view-in-github",
        "colab_type": "text"
      },
      "source": [
        "<a href=\"https://colab.research.google.com/github/lmartins30/SENAC-SP/blob/main/Luiz_Senac_Breast_Cancer.ipynb\" target=\"_parent\"><img src=\"https://colab.research.google.com/assets/colab-badge.svg\" alt=\"Open In Colab\"/></a>"
      ]
    },
    {
      "cell_type": "code",
      "metadata": {
        "colab": {
          "base_uri": "https://localhost:8080/"
        },
        "id": "xD5q5jg0GRkr",
        "outputId": "dd9e9416-4755-4573-c4ec-4c39a60c7a8d"
      },
      "source": [
        "!pip uninstall scikit-learn -y\n",
        "\n",
        "!pip install -U scikit-learn"
      ],
      "execution_count": 1,
      "outputs": [
        {
          "output_type": "stream",
          "name": "stdout",
          "text": [
            "Found existing installation: scikit-learn 1.0.2\n",
            "Uninstalling scikit-learn-1.0.2:\n",
            "  Successfully uninstalled scikit-learn-1.0.2\n",
            "Looking in indexes: https://pypi.org/simple, https://us-python.pkg.dev/colab-wheels/public/simple/\n",
            "Collecting scikit-learn\n",
            "  Downloading scikit_learn-1.0.2-cp37-cp37m-manylinux_2_17_x86_64.manylinux2014_x86_64.whl (24.8 MB)\n",
            "\u001b[K     |████████████████████████████████| 24.8 MB 10.4 MB/s \n",
            "\u001b[?25hRequirement already satisfied: threadpoolctl>=2.0.0 in /usr/local/lib/python3.7/dist-packages (from scikit-learn) (3.1.0)\n",
            "Requirement already satisfied: scipy>=1.1.0 in /usr/local/lib/python3.7/dist-packages (from scikit-learn) (1.5.4)\n",
            "Requirement already satisfied: numpy>=1.14.6 in /usr/local/lib/python3.7/dist-packages (from scikit-learn) (1.21.6)\n",
            "Requirement already satisfied: joblib>=0.11 in /usr/local/lib/python3.7/dist-packages (from scikit-learn) (1.1.0)\n",
            "Installing collected packages: scikit-learn\n",
            "Successfully installed scikit-learn-1.0.2\n"
          ]
        }
      ]
    },
    {
      "cell_type": "code",
      "metadata": {
        "id": "cGFKGvKlFdFc"
      },
      "source": [
        "# Python ≥3.5 is required\n",
        "import sys\n",
        "assert sys.version_info >= (3, 5)\n",
        "\n",
        "# Scikit-Learn ≥0.20 is required\n",
        "import sklearn\n",
        "assert sklearn.__version__ >= \"1\"\n",
        "\n",
        "try:\n",
        "    # %tensorflow_version only exists in Colab.\n",
        "    %tensorflow_version 2.x\n",
        "except Exception:\n",
        "    pass\n",
        "\n",
        "# TensorFlow ≥2.0 is required\n",
        "import tensorflow as tf\n",
        "from tensorflow import keras\n",
        "assert tf.__version__ >= \"2.0\"\n",
        "\n",
        "%load_ext tensorboard\n",
        "\n",
        "# Common imports\n",
        "import numpy as np\n",
        "import os\n",
        "\n",
        "# to make this notebook's output stable across runs\n",
        "np.random.seed(42)\n",
        "\n",
        "# To plot pretty figures\n",
        "%matplotlib inline\n",
        "import matplotlib as mpl\n",
        "import matplotlib.pyplot as plt\n",
        "mpl.rc('axes', labelsize=14)\n",
        "mpl.rc('xtick', labelsize=12)\n",
        "mpl.rc('ytick', labelsize=12)"
      ],
      "execution_count": 2,
      "outputs": []
    },
    {
      "cell_type": "code",
      "metadata": {
        "id": "t4fxtC4pEtjy"
      },
      "source": [
        "import tensorflow as tf\n",
        "import numpy as np"
      ],
      "execution_count": 3,
      "outputs": []
    },
    {
      "cell_type": "code",
      "metadata": {
        "id": "Ct2wwdFIHoen"
      },
      "source": [
        "from sklearn.datasets import load_breast_cancer\n",
        "from sklearn.model_selection import train_test_split\n",
        "from sklearn.preprocessing import StandardScaler\n",
        "\n",
        "breast_cancer = load_breast_cancer()\n",
        "\n",
        "X_train_full, X_test, y_train_full, y_test = train_test_split(breast_cancer.data, breast_cancer.target, random_state=42)\n",
        "X_train, X_valid, y_train, y_valid = train_test_split(X_train_full, y_train_full, random_state=42)\n",
        "\n",
        "scaler = StandardScaler()\n",
        "X_train = scaler.fit_transform(X_train)\n",
        "X_valid = scaler.transform(X_valid)\n",
        "X_test = scaler.transform(X_test)"
      ],
      "execution_count": 4,
      "outputs": []
    },
    {
      "cell_type": "code",
      "metadata": {
        "colab": {
          "base_uri": "https://localhost:8080/"
        },
        "id": "s5mB6pWH_08m",
        "outputId": "2be0d6a4-5577-480d-bc91-1081d3a2b960"
      },
      "source": [
        "breast_cancer"
      ],
      "execution_count": 5,
      "outputs": [
        {
          "output_type": "execute_result",
          "data": {
            "text/plain": [
              "{'DESCR': '.. _breast_cancer_dataset:\\n\\nBreast cancer wisconsin (diagnostic) dataset\\n--------------------------------------------\\n\\n**Data Set Characteristics:**\\n\\n    :Number of Instances: 569\\n\\n    :Number of Attributes: 30 numeric, predictive attributes and the class\\n\\n    :Attribute Information:\\n        - radius (mean of distances from center to points on the perimeter)\\n        - texture (standard deviation of gray-scale values)\\n        - perimeter\\n        - area\\n        - smoothness (local variation in radius lengths)\\n        - compactness (perimeter^2 / area - 1.0)\\n        - concavity (severity of concave portions of the contour)\\n        - concave points (number of concave portions of the contour)\\n        - symmetry\\n        - fractal dimension (\"coastline approximation\" - 1)\\n\\n        The mean, standard error, and \"worst\" or largest (mean of the three\\n        worst/largest values) of these features were computed for each image,\\n        resulting in 30 features.  For instance, field 0 is Mean Radius, field\\n        10 is Radius SE, field 20 is Worst Radius.\\n\\n        - class:\\n                - WDBC-Malignant\\n                - WDBC-Benign\\n\\n    :Summary Statistics:\\n\\n    ===================================== ====== ======\\n                                           Min    Max\\n    ===================================== ====== ======\\n    radius (mean):                        6.981  28.11\\n    texture (mean):                       9.71   39.28\\n    perimeter (mean):                     43.79  188.5\\n    area (mean):                          143.5  2501.0\\n    smoothness (mean):                    0.053  0.163\\n    compactness (mean):                   0.019  0.345\\n    concavity (mean):                     0.0    0.427\\n    concave points (mean):                0.0    0.201\\n    symmetry (mean):                      0.106  0.304\\n    fractal dimension (mean):             0.05   0.097\\n    radius (standard error):              0.112  2.873\\n    texture (standard error):             0.36   4.885\\n    perimeter (standard error):           0.757  21.98\\n    area (standard error):                6.802  542.2\\n    smoothness (standard error):          0.002  0.031\\n    compactness (standard error):         0.002  0.135\\n    concavity (standard error):           0.0    0.396\\n    concave points (standard error):      0.0    0.053\\n    symmetry (standard error):            0.008  0.079\\n    fractal dimension (standard error):   0.001  0.03\\n    radius (worst):                       7.93   36.04\\n    texture (worst):                      12.02  49.54\\n    perimeter (worst):                    50.41  251.2\\n    area (worst):                         185.2  4254.0\\n    smoothness (worst):                   0.071  0.223\\n    compactness (worst):                  0.027  1.058\\n    concavity (worst):                    0.0    1.252\\n    concave points (worst):               0.0    0.291\\n    symmetry (worst):                     0.156  0.664\\n    fractal dimension (worst):            0.055  0.208\\n    ===================================== ====== ======\\n\\n    :Missing Attribute Values: None\\n\\n    :Class Distribution: 212 - Malignant, 357 - Benign\\n\\n    :Creator:  Dr. William H. Wolberg, W. Nick Street, Olvi L. Mangasarian\\n\\n    :Donor: Nick Street\\n\\n    :Date: November, 1995\\n\\nThis is a copy of UCI ML Breast Cancer Wisconsin (Diagnostic) datasets.\\nhttps://goo.gl/U2Uwz2\\n\\nFeatures are computed from a digitized image of a fine needle\\naspirate (FNA) of a breast mass.  They describe\\ncharacteristics of the cell nuclei present in the image.\\n\\nSeparating plane described above was obtained using\\nMultisurface Method-Tree (MSM-T) [K. P. Bennett, \"Decision Tree\\nConstruction Via Linear Programming.\" Proceedings of the 4th\\nMidwest Artificial Intelligence and Cognitive Science Society,\\npp. 97-101, 1992], a classification method which uses linear\\nprogramming to construct a decision tree.  Relevant features\\nwere selected using an exhaustive search in the space of 1-4\\nfeatures and 1-3 separating planes.\\n\\nThe actual linear program used to obtain the separating plane\\nin the 3-dimensional space is that described in:\\n[K. P. Bennett and O. L. Mangasarian: \"Robust Linear\\nProgramming Discrimination of Two Linearly Inseparable Sets\",\\nOptimization Methods and Software 1, 1992, 23-34].\\n\\nThis database is also available through the UW CS ftp server:\\n\\nftp ftp.cs.wisc.edu\\ncd math-prog/cpo-dataset/machine-learn/WDBC/\\n\\n.. topic:: References\\n\\n   - W.N. Street, W.H. Wolberg and O.L. Mangasarian. Nuclear feature extraction \\n     for breast tumor diagnosis. IS&T/SPIE 1993 International Symposium on \\n     Electronic Imaging: Science and Technology, volume 1905, pages 861-870,\\n     San Jose, CA, 1993.\\n   - O.L. Mangasarian, W.N. Street and W.H. Wolberg. Breast cancer diagnosis and \\n     prognosis via linear programming. Operations Research, 43(4), pages 570-577, \\n     July-August 1995.\\n   - W.H. Wolberg, W.N. Street, and O.L. Mangasarian. Machine learning techniques\\n     to diagnose breast cancer from fine-needle aspirates. Cancer Letters 77 (1994) \\n     163-171.',\n",
              " 'data': array([[1.799e+01, 1.038e+01, 1.228e+02, ..., 2.654e-01, 4.601e-01,\n",
              "         1.189e-01],\n",
              "        [2.057e+01, 1.777e+01, 1.329e+02, ..., 1.860e-01, 2.750e-01,\n",
              "         8.902e-02],\n",
              "        [1.969e+01, 2.125e+01, 1.300e+02, ..., 2.430e-01, 3.613e-01,\n",
              "         8.758e-02],\n",
              "        ...,\n",
              "        [1.660e+01, 2.808e+01, 1.083e+02, ..., 1.418e-01, 2.218e-01,\n",
              "         7.820e-02],\n",
              "        [2.060e+01, 2.933e+01, 1.401e+02, ..., 2.650e-01, 4.087e-01,\n",
              "         1.240e-01],\n",
              "        [7.760e+00, 2.454e+01, 4.792e+01, ..., 0.000e+00, 2.871e-01,\n",
              "         7.039e-02]]),\n",
              " 'data_module': 'sklearn.datasets.data',\n",
              " 'feature_names': array(['mean radius', 'mean texture', 'mean perimeter', 'mean area',\n",
              "        'mean smoothness', 'mean compactness', 'mean concavity',\n",
              "        'mean concave points', 'mean symmetry', 'mean fractal dimension',\n",
              "        'radius error', 'texture error', 'perimeter error', 'area error',\n",
              "        'smoothness error', 'compactness error', 'concavity error',\n",
              "        'concave points error', 'symmetry error',\n",
              "        'fractal dimension error', 'worst radius', 'worst texture',\n",
              "        'worst perimeter', 'worst area', 'worst smoothness',\n",
              "        'worst compactness', 'worst concavity', 'worst concave points',\n",
              "        'worst symmetry', 'worst fractal dimension'], dtype='<U23'),\n",
              " 'filename': 'breast_cancer.csv',\n",
              " 'frame': None,\n",
              " 'target': array([0, 0, 0, 0, 0, 0, 0, 0, 0, 0, 0, 0, 0, 0, 0, 0, 0, 0, 0, 1, 1, 1,\n",
              "        0, 0, 0, 0, 0, 0, 0, 0, 0, 0, 0, 0, 0, 0, 0, 1, 0, 0, 0, 0, 0, 0,\n",
              "        0, 0, 1, 0, 1, 1, 1, 1, 1, 0, 0, 1, 0, 0, 1, 1, 1, 1, 0, 1, 0, 0,\n",
              "        1, 1, 1, 1, 0, 1, 0, 0, 1, 0, 1, 0, 0, 1, 1, 1, 0, 0, 1, 0, 0, 0,\n",
              "        1, 1, 1, 0, 1, 1, 0, 0, 1, 1, 1, 0, 0, 1, 1, 1, 1, 0, 1, 1, 0, 1,\n",
              "        1, 1, 1, 1, 1, 1, 1, 0, 0, 0, 1, 0, 0, 1, 1, 1, 0, 0, 1, 0, 1, 0,\n",
              "        0, 1, 0, 0, 1, 1, 0, 1, 1, 0, 1, 1, 1, 1, 0, 1, 1, 1, 1, 1, 1, 1,\n",
              "        1, 1, 0, 1, 1, 1, 1, 0, 0, 1, 0, 1, 1, 0, 0, 1, 1, 0, 0, 1, 1, 1,\n",
              "        1, 0, 1, 1, 0, 0, 0, 1, 0, 1, 0, 1, 1, 1, 0, 1, 1, 0, 0, 1, 0, 0,\n",
              "        0, 0, 1, 0, 0, 0, 1, 0, 1, 0, 1, 1, 0, 1, 0, 0, 0, 0, 1, 1, 0, 0,\n",
              "        1, 1, 1, 0, 1, 1, 1, 1, 1, 0, 0, 1, 1, 0, 1, 1, 0, 0, 1, 0, 1, 1,\n",
              "        1, 1, 0, 1, 1, 1, 1, 1, 0, 1, 0, 0, 0, 0, 0, 0, 0, 0, 0, 0, 0, 0,\n",
              "        0, 0, 1, 1, 1, 1, 1, 1, 0, 1, 0, 1, 1, 0, 1, 1, 0, 1, 0, 0, 1, 1,\n",
              "        1, 1, 1, 1, 1, 1, 1, 1, 1, 1, 1, 0, 1, 1, 0, 1, 0, 1, 1, 1, 1, 1,\n",
              "        1, 1, 1, 1, 1, 1, 1, 1, 1, 0, 1, 1, 1, 0, 1, 0, 1, 1, 1, 1, 0, 0,\n",
              "        0, 1, 1, 1, 1, 0, 1, 0, 1, 0, 1, 1, 1, 0, 1, 1, 1, 1, 1, 1, 1, 0,\n",
              "        0, 0, 1, 1, 1, 1, 1, 1, 1, 1, 1, 1, 1, 0, 0, 1, 0, 0, 0, 1, 0, 0,\n",
              "        1, 1, 1, 1, 1, 0, 1, 1, 1, 1, 1, 0, 1, 1, 1, 0, 1, 1, 0, 0, 1, 1,\n",
              "        1, 1, 1, 1, 0, 1, 1, 1, 1, 1, 1, 1, 0, 1, 1, 1, 1, 1, 0, 1, 1, 0,\n",
              "        1, 1, 1, 1, 1, 1, 1, 1, 1, 1, 1, 1, 0, 1, 0, 0, 1, 0, 1, 1, 1, 1,\n",
              "        1, 0, 1, 1, 0, 1, 0, 1, 1, 0, 1, 0, 1, 1, 1, 1, 1, 1, 1, 1, 0, 0,\n",
              "        1, 1, 1, 1, 1, 1, 0, 1, 1, 1, 1, 1, 1, 1, 1, 1, 1, 0, 1, 1, 1, 1,\n",
              "        1, 1, 1, 0, 1, 0, 1, 1, 0, 1, 1, 1, 1, 1, 0, 0, 1, 0, 1, 0, 1, 1,\n",
              "        1, 1, 1, 0, 1, 1, 0, 1, 0, 1, 0, 0, 1, 1, 1, 0, 1, 1, 1, 1, 1, 1,\n",
              "        1, 1, 1, 1, 1, 0, 1, 0, 0, 1, 1, 1, 1, 1, 1, 1, 1, 1, 1, 1, 1, 1,\n",
              "        1, 1, 1, 1, 1, 1, 1, 1, 1, 1, 1, 1, 0, 0, 0, 0, 0, 0, 1]),\n",
              " 'target_names': array(['malignant', 'benign'], dtype='<U9')}"
            ]
          },
          "metadata": {},
          "execution_count": 5
        }
      ]
    },
    {
      "cell_type": "code",
      "metadata": {
        "colab": {
          "base_uri": "https://localhost:8080/"
        },
        "id": "hLiNvvmc_6k4",
        "outputId": "6a876ea7-a082-4c6e-e4a2-2b3eb0f65110"
      },
      "source": [
        "breast_cancer.data"
      ],
      "execution_count": 6,
      "outputs": [
        {
          "output_type": "execute_result",
          "data": {
            "text/plain": [
              "array([[1.799e+01, 1.038e+01, 1.228e+02, ..., 2.654e-01, 4.601e-01,\n",
              "        1.189e-01],\n",
              "       [2.057e+01, 1.777e+01, 1.329e+02, ..., 1.860e-01, 2.750e-01,\n",
              "        8.902e-02],\n",
              "       [1.969e+01, 2.125e+01, 1.300e+02, ..., 2.430e-01, 3.613e-01,\n",
              "        8.758e-02],\n",
              "       ...,\n",
              "       [1.660e+01, 2.808e+01, 1.083e+02, ..., 1.418e-01, 2.218e-01,\n",
              "        7.820e-02],\n",
              "       [2.060e+01, 2.933e+01, 1.401e+02, ..., 2.650e-01, 4.087e-01,\n",
              "        1.240e-01],\n",
              "       [7.760e+00, 2.454e+01, 4.792e+01, ..., 0.000e+00, 2.871e-01,\n",
              "        7.039e-02]])"
            ]
          },
          "metadata": {},
          "execution_count": 6
        }
      ]
    },
    {
      "cell_type": "markdown",
      "metadata": {
        "id": "j3oEthWYIRMc"
      },
      "source": [
        ""
      ]
    },
    {
      "cell_type": "code",
      "metadata": {
        "id": "61Mm2F0fIHON"
      },
      "source": [
        "#MODELO BASE\n",
        "\n",
        "model = keras.models.Sequential()\n",
        "model.add(keras.layers.Flatten(input_shape=X_train.shape[1:]))\n",
        "model.add(keras.layers.Dense(120, activation=\"relu\"))\n",
        "model.add(keras.layers.Dropout(rate=0.2))\n",
        "model.add(keras.layers.Dense(80, activation=\"relu\"))\n",
        "model.add(keras.layers.Dropout(rate=0.2))\n",
        "model.add(keras.layers.Dense(40, activation=\"relu\"))\n",
        "model.add(keras.layers.Dropout(rate=0.2))\n",
        "model.add(keras.layers.Dense(2, activation=\"softmax\"))\n",
        "\n",
        "\n",
        "##model.add(keras.layers.Dense(100, kernel_initializer=\"he_normal\"))\n",
        "##model.add(keras.layers.PReLU())"
      ],
      "execution_count": 7,
      "outputs": []
    },
    {
      "cell_type": "code",
      "metadata": {
        "id": "jrkzRhcDA7mm"
      },
      "source": [
        "##MELHOR MODELO\n",
        "\n",
        "#model = keras.models.Sequential()\n",
        "#model.add(keras.layers.Flatten(input_shape=X_train.shape[1:]))\n",
        "#model.add(keras.layers.Dense(120, activation=\"selu\"))\n",
        "#model.add(keras.layers.Dropout(rate=0.5))\n",
        "#model.add(keras.layers.Dense(80, activation=\"selu\"))\n",
        "#model.add(keras.layers.Dropout(rate=0.5))\n",
        "#model.add(keras.layers.Dense(40, activation=\"selu\"))\n",
        "#model.add(keras.layers.Dropout(rate=0.5))\n",
        "#model.add(keras.layers.Dense(2, activation=\"softmax\"))\n",
        "\n",
        "\n",
        "##model.add(keras.layers.Dense(100, kernel_initializer=\"he_normal\"))\n",
        "##model.add(keras.layers.PReLU())"
      ],
      "execution_count": 8,
      "outputs": []
    },
    {
      "cell_type": "code",
      "metadata": {
        "colab": {
          "base_uri": "https://localhost:8080/"
        },
        "id": "PLoWndGjIoLp",
        "outputId": "1213a087-fa70-4596-9ec0-6894dda62b27"
      },
      "source": [
        "model.summary()"
      ],
      "execution_count": 9,
      "outputs": [
        {
          "output_type": "stream",
          "name": "stdout",
          "text": [
            "Model: \"sequential\"\n",
            "_________________________________________________________________\n",
            " Layer (type)                Output Shape              Param #   \n",
            "=================================================================\n",
            " flatten (Flatten)           (None, 30)                0         \n",
            "                                                                 \n",
            " dense (Dense)               (None, 120)               3720      \n",
            "                                                                 \n",
            " dropout (Dropout)           (None, 120)               0         \n",
            "                                                                 \n",
            " dense_1 (Dense)             (None, 80)                9680      \n",
            "                                                                 \n",
            " dropout_1 (Dropout)         (None, 80)                0         \n",
            "                                                                 \n",
            " dense_2 (Dense)             (None, 40)                3240      \n",
            "                                                                 \n",
            " dropout_2 (Dropout)         (None, 40)                0         \n",
            "                                                                 \n",
            " dense_3 (Dense)             (None, 2)                 82        \n",
            "                                                                 \n",
            "=================================================================\n",
            "Total params: 16,722\n",
            "Trainable params: 16,722\n",
            "Non-trainable params: 0\n",
            "_________________________________________________________________\n"
          ]
        }
      ]
    },
    {
      "cell_type": "code",
      "metadata": {
        "colab": {
          "base_uri": "https://localhost:8080/",
          "height": 976
        },
        "id": "8SVO_bZfItYy",
        "outputId": "cc0fdfa3-45cc-4036-9393-fdb657644495"
      },
      "source": [
        "keras.utils.plot_model(model, \"cancer_model.png\", show_shapes=True)"
      ],
      "execution_count": 10,
      "outputs": [
        {
          "output_type": "execute_result",
          "data": {
            "text/plain": [
              "<IPython.core.display.Image object>"
            ],
            "image/png": "[encoded data removed]"
          },
          "metadata": {},
          "execution_count": 10
        }
      ]
    },
    {
      "cell_type": "code",
      "metadata": {
        "id": "sy1YwiZxPogu"
      },
      "source": [
        "#optimizer = keras.optimizers.Adam(learning_rate=0.001, beta_1=0.9, beta_2=0.999)\n",
        "#optimizer = keras.optimizers.RMSprop(learning_rate=0.001, rho=0.9)\n",
        "#optimizer = keras.optimizers.Adamax(learning_rate=0.001, beta_1=0.9, beta_2=0.999)\n",
        "#optimizer = keras.optimizers.Nadam(learning_rate=0.001, beta_1=0.9, beta_2=0.999)\n",
        "optimizer =\"sgd\""
      ],
      "execution_count": 11,
      "outputs": []
    },
    {
      "cell_type": "code",
      "metadata": {
        "id": "SIwl-5qhJDqu"
      },
      "source": [
        "model.compile(loss=\"sparse_categorical_crossentropy\",\n",
        "              optimizer=optimizer,\n",
        "              metrics=[\"accuracy\"])"
      ],
      "execution_count": 12,
      "outputs": []
    },
    {
      "cell_type": "code",
      "metadata": {
        "colab": {
          "base_uri": "https://localhost:8080/"
        },
        "id": "bGQOkfdmJFzR",
        "outputId": "664e4071-64d4-4f9b-c5cf-9440388546fd"
      },
      "source": [
        "history = model.fit(X_train, y_train, epochs=100,\n",
        "                    validation_data=(X_valid, y_valid))"
      ],
      "execution_count": 13,
      "outputs": [
        {
          "output_type": "stream",
          "name": "stdout",
          "text": [
            "Epoch 1/100\n",
            "10/10 [==============================] - 1s 28ms/step - loss: 0.7878 - accuracy: 0.6113 - val_loss: 0.5560 - val_accuracy: 0.8505\n",
            "Epoch 2/100\n",
            "10/10 [==============================] - 0s 10ms/step - loss: 0.5589 - accuracy: 0.7367 - val_loss: 0.4553 - val_accuracy: 0.9159\n",
            "Epoch 3/100\n",
            "10/10 [==============================] - 0s 9ms/step - loss: 0.4995 - accuracy: 0.8150 - val_loss: 0.3807 - val_accuracy: 0.9252\n",
            "Epoch 4/100\n",
            "10/10 [==============================] - 0s 8ms/step - loss: 0.4145 - accuracy: 0.8589 - val_loss: 0.3287 - val_accuracy: 0.9346\n",
            "Epoch 5/100\n",
            "10/10 [==============================] - 0s 6ms/step - loss: 0.3546 - accuracy: 0.8966 - val_loss: 0.2872 - val_accuracy: 0.9439\n",
            "Epoch 6/100\n",
            "10/10 [==============================] - 0s 7ms/step - loss: 0.3254 - accuracy: 0.8997 - val_loss: 0.2567 - val_accuracy: 0.9439\n",
            "Epoch 7/100\n",
            "10/10 [==============================] - 0s 5ms/step - loss: 0.2874 - accuracy: 0.9060 - val_loss: 0.2321 - val_accuracy: 0.9439\n",
            "Epoch 8/100\n",
            "10/10 [==============================] - 0s 5ms/step - loss: 0.2583 - accuracy: 0.9404 - val_loss: 0.2136 - val_accuracy: 0.9439\n",
            "Epoch 9/100\n",
            "10/10 [==============================] - 0s 4ms/step - loss: 0.2403 - accuracy: 0.9373 - val_loss: 0.1981 - val_accuracy: 0.9439\n",
            "Epoch 10/100\n",
            "10/10 [==============================] - 0s 5ms/step - loss: 0.2435 - accuracy: 0.9279 - val_loss: 0.1828 - val_accuracy: 0.9533\n",
            "Epoch 11/100\n",
            "10/10 [==============================] - 0s 6ms/step - loss: 0.2249 - accuracy: 0.9404 - val_loss: 0.1714 - val_accuracy: 0.9533\n",
            "Epoch 12/100\n",
            "10/10 [==============================] - 0s 5ms/step - loss: 0.2171 - accuracy: 0.9342 - val_loss: 0.1616 - val_accuracy: 0.9533\n",
            "Epoch 13/100\n",
            "10/10 [==============================] - 0s 7ms/step - loss: 0.1916 - accuracy: 0.9498 - val_loss: 0.1538 - val_accuracy: 0.9533\n",
            "Epoch 14/100\n",
            "10/10 [==============================] - 0s 10ms/step - loss: 0.1853 - accuracy: 0.9467 - val_loss: 0.1469 - val_accuracy: 0.9533\n",
            "Epoch 15/100\n",
            "10/10 [==============================] - 0s 4ms/step - loss: 0.1782 - accuracy: 0.9436 - val_loss: 0.1409 - val_accuracy: 0.9533\n",
            "Epoch 16/100\n",
            "10/10 [==============================] - 0s 6ms/step - loss: 0.1902 - accuracy: 0.9404 - val_loss: 0.1353 - val_accuracy: 0.9533\n",
            "Epoch 17/100\n",
            "10/10 [==============================] - 0s 6ms/step - loss: 0.1804 - accuracy: 0.9404 - val_loss: 0.1301 - val_accuracy: 0.9533\n",
            "Epoch 18/100\n",
            "10/10 [==============================] - 0s 6ms/step - loss: 0.1705 - accuracy: 0.9498 - val_loss: 0.1253 - val_accuracy: 0.9533\n",
            "Epoch 19/100\n",
            "10/10 [==============================] - 0s 6ms/step - loss: 0.1773 - accuracy: 0.9373 - val_loss: 0.1218 - val_accuracy: 0.9533\n",
            "Epoch 20/100\n",
            "10/10 [==============================] - 0s 5ms/step - loss: 0.1547 - accuracy: 0.9530 - val_loss: 0.1177 - val_accuracy: 0.9626\n",
            "Epoch 21/100\n",
            "10/10 [==============================] - 0s 4ms/step - loss: 0.1714 - accuracy: 0.9467 - val_loss: 0.1135 - val_accuracy: 0.9626\n",
            "Epoch 22/100\n",
            "10/10 [==============================] - 0s 6ms/step - loss: 0.1367 - accuracy: 0.9498 - val_loss: 0.1100 - val_accuracy: 0.9626\n",
            "Epoch 23/100\n",
            "10/10 [==============================] - 0s 6ms/step - loss: 0.1388 - accuracy: 0.9467 - val_loss: 0.1072 - val_accuracy: 0.9533\n",
            "Epoch 24/100\n",
            "10/10 [==============================] - 0s 4ms/step - loss: 0.1484 - accuracy: 0.9561 - val_loss: 0.1038 - val_accuracy: 0.9533\n",
            "Epoch 25/100\n",
            "10/10 [==============================] - 0s 4ms/step - loss: 0.1528 - accuracy: 0.9436 - val_loss: 0.1005 - val_accuracy: 0.9626\n",
            "Epoch 26/100\n",
            "10/10 [==============================] - 0s 5ms/step - loss: 0.1369 - accuracy: 0.9592 - val_loss: 0.0986 - val_accuracy: 0.9533\n",
            "Epoch 27/100\n",
            "10/10 [==============================] - 0s 4ms/step - loss: 0.1291 - accuracy: 0.9592 - val_loss: 0.0968 - val_accuracy: 0.9626\n",
            "Epoch 28/100\n",
            "10/10 [==============================] - 0s 4ms/step - loss: 0.1206 - accuracy: 0.9592 - val_loss: 0.0940 - val_accuracy: 0.9626\n",
            "Epoch 29/100\n",
            "10/10 [==============================] - 0s 12ms/step - loss: 0.1235 - accuracy: 0.9592 - val_loss: 0.0925 - val_accuracy: 0.9626\n",
            "Epoch 30/100\n",
            "10/10 [==============================] - 0s 11ms/step - loss: 0.1329 - accuracy: 0.9498 - val_loss: 0.0912 - val_accuracy: 0.9626\n",
            "Epoch 31/100\n",
            "10/10 [==============================] - 0s 8ms/step - loss: 0.1168 - accuracy: 0.9687 - val_loss: 0.0888 - val_accuracy: 0.9626\n",
            "Epoch 32/100\n",
            "10/10 [==============================] - 0s 8ms/step - loss: 0.1250 - accuracy: 0.9530 - val_loss: 0.0872 - val_accuracy: 0.9626\n",
            "Epoch 33/100\n",
            "10/10 [==============================] - 0s 8ms/step - loss: 0.1109 - accuracy: 0.9655 - val_loss: 0.0856 - val_accuracy: 0.9626\n",
            "Epoch 34/100\n",
            "10/10 [==============================] - 0s 8ms/step - loss: 0.1309 - accuracy: 0.9561 - val_loss: 0.0847 - val_accuracy: 0.9626\n",
            "Epoch 35/100\n",
            "10/10 [==============================] - 0s 11ms/step - loss: 0.1154 - accuracy: 0.9749 - val_loss: 0.0824 - val_accuracy: 0.9626\n",
            "Epoch 36/100\n",
            "10/10 [==============================] - 0s 9ms/step - loss: 0.1088 - accuracy: 0.9592 - val_loss: 0.0807 - val_accuracy: 0.9626\n",
            "Epoch 37/100\n",
            "10/10 [==============================] - 0s 9ms/step - loss: 0.1184 - accuracy: 0.9655 - val_loss: 0.0793 - val_accuracy: 0.9626\n",
            "Epoch 38/100\n",
            "10/10 [==============================] - 0s 8ms/step - loss: 0.1133 - accuracy: 0.9655 - val_loss: 0.0781 - val_accuracy: 0.9626\n",
            "Epoch 39/100\n",
            "10/10 [==============================] - 0s 9ms/step - loss: 0.1110 - accuracy: 0.9718 - val_loss: 0.0767 - val_accuracy: 0.9626\n",
            "Epoch 40/100\n",
            "10/10 [==============================] - 0s 11ms/step - loss: 0.1086 - accuracy: 0.9592 - val_loss: 0.0752 - val_accuracy: 0.9626\n",
            "Epoch 41/100\n",
            "10/10 [==============================] - 0s 6ms/step - loss: 0.0967 - accuracy: 0.9687 - val_loss: 0.0742 - val_accuracy: 0.9626\n",
            "Epoch 42/100\n",
            "10/10 [==============================] - 0s 9ms/step - loss: 0.1139 - accuracy: 0.9624 - val_loss: 0.0734 - val_accuracy: 0.9626\n",
            "Epoch 43/100\n",
            "10/10 [==============================] - 0s 14ms/step - loss: 0.0950 - accuracy: 0.9687 - val_loss: 0.0728 - val_accuracy: 0.9720\n",
            "Epoch 44/100\n",
            "10/10 [==============================] - 0s 11ms/step - loss: 0.1040 - accuracy: 0.9687 - val_loss: 0.0715 - val_accuracy: 0.9720\n",
            "Epoch 45/100\n",
            "10/10 [==============================] - 0s 9ms/step - loss: 0.1058 - accuracy: 0.9530 - val_loss: 0.0701 - val_accuracy: 0.9720\n",
            "Epoch 46/100\n",
            "10/10 [==============================] - 0s 11ms/step - loss: 0.0990 - accuracy: 0.9624 - val_loss: 0.0697 - val_accuracy: 0.9720\n",
            "Epoch 47/100\n",
            "10/10 [==============================] - 0s 9ms/step - loss: 0.1040 - accuracy: 0.9749 - val_loss: 0.0693 - val_accuracy: 0.9720\n",
            "Epoch 48/100\n",
            "10/10 [==============================] - 0s 9ms/step - loss: 0.1022 - accuracy: 0.9655 - val_loss: 0.0691 - val_accuracy: 0.9720\n",
            "Epoch 49/100\n",
            "10/10 [==============================] - 0s 9ms/step - loss: 0.0920 - accuracy: 0.9781 - val_loss: 0.0686 - val_accuracy: 0.9720\n",
            "Epoch 50/100\n",
            "10/10 [==============================] - 0s 9ms/step - loss: 0.1003 - accuracy: 0.9718 - val_loss: 0.0684 - val_accuracy: 0.9720\n",
            "Epoch 51/100\n",
            "10/10 [==============================] - 0s 9ms/step - loss: 0.0927 - accuracy: 0.9749 - val_loss: 0.0667 - val_accuracy: 0.9720\n",
            "Epoch 52/100\n",
            "10/10 [==============================] - 0s 9ms/step - loss: 0.0931 - accuracy: 0.9655 - val_loss: 0.0659 - val_accuracy: 0.9720\n",
            "Epoch 53/100\n",
            "10/10 [==============================] - 0s 8ms/step - loss: 0.1147 - accuracy: 0.9624 - val_loss: 0.0650 - val_accuracy: 0.9720\n",
            "Epoch 54/100\n",
            "10/10 [==============================] - 0s 11ms/step - loss: 0.0984 - accuracy: 0.9687 - val_loss: 0.0645 - val_accuracy: 0.9720\n",
            "Epoch 55/100\n",
            "10/10 [==============================] - 0s 13ms/step - loss: 0.0748 - accuracy: 0.9812 - val_loss: 0.0638 - val_accuracy: 0.9720\n",
            "Epoch 56/100\n",
            "10/10 [==============================] - 0s 12ms/step - loss: 0.0826 - accuracy: 0.9687 - val_loss: 0.0633 - val_accuracy: 0.9720\n",
            "Epoch 57/100\n",
            "10/10 [==============================] - 0s 9ms/step - loss: 0.0984 - accuracy: 0.9781 - val_loss: 0.0629 - val_accuracy: 0.9720\n",
            "Epoch 58/100\n",
            "10/10 [==============================] - 0s 8ms/step - loss: 0.0980 - accuracy: 0.9687 - val_loss: 0.0627 - val_accuracy: 0.9720\n",
            "Epoch 59/100\n",
            "10/10 [==============================] - 0s 11ms/step - loss: 0.0696 - accuracy: 0.9749 - val_loss: 0.0619 - val_accuracy: 0.9720\n",
            "Epoch 60/100\n",
            "10/10 [==============================] - 0s 13ms/step - loss: 0.0774 - accuracy: 0.9781 - val_loss: 0.0615 - val_accuracy: 0.9720\n",
            "Epoch 61/100\n",
            "10/10 [==============================] - 0s 9ms/step - loss: 0.0939 - accuracy: 0.9718 - val_loss: 0.0611 - val_accuracy: 0.9813\n",
            "Epoch 62/100\n",
            "10/10 [==============================] - 0s 7ms/step - loss: 0.0976 - accuracy: 0.9718 - val_loss: 0.0616 - val_accuracy: 0.9720\n",
            "Epoch 63/100\n",
            "10/10 [==============================] - 0s 8ms/step - loss: 0.0804 - accuracy: 0.9843 - val_loss: 0.0610 - val_accuracy: 0.9720\n",
            "Epoch 64/100\n",
            "10/10 [==============================] - 0s 15ms/step - loss: 0.0866 - accuracy: 0.9781 - val_loss: 0.0609 - val_accuracy: 0.9720\n",
            "Epoch 65/100\n",
            "10/10 [==============================] - 0s 10ms/step - loss: 0.0805 - accuracy: 0.9749 - val_loss: 0.0604 - val_accuracy: 0.9813\n",
            "Epoch 66/100\n",
            "10/10 [==============================] - 0s 8ms/step - loss: 0.0794 - accuracy: 0.9687 - val_loss: 0.0598 - val_accuracy: 0.9813\n",
            "Epoch 67/100\n",
            "10/10 [==============================] - 0s 10ms/step - loss: 0.0988 - accuracy: 0.9687 - val_loss: 0.0603 - val_accuracy: 0.9907\n",
            "Epoch 68/100\n",
            "10/10 [==============================] - 0s 9ms/step - loss: 0.0712 - accuracy: 0.9812 - val_loss: 0.0603 - val_accuracy: 0.9907\n",
            "Epoch 69/100\n",
            "10/10 [==============================] - 0s 8ms/step - loss: 0.0908 - accuracy: 0.9718 - val_loss: 0.0594 - val_accuracy: 0.9907\n",
            "Epoch 70/100\n",
            "10/10 [==============================] - 0s 8ms/step - loss: 0.0777 - accuracy: 0.9749 - val_loss: 0.0590 - val_accuracy: 0.9907\n",
            "Epoch 71/100\n",
            "10/10 [==============================] - 0s 8ms/step - loss: 0.0825 - accuracy: 0.9812 - val_loss: 0.0579 - val_accuracy: 0.9907\n",
            "Epoch 72/100\n",
            "10/10 [==============================] - 0s 9ms/step - loss: 0.0656 - accuracy: 0.9875 - val_loss: 0.0574 - val_accuracy: 0.9907\n",
            "Epoch 73/100\n",
            "10/10 [==============================] - 0s 8ms/step - loss: 0.0756 - accuracy: 0.9781 - val_loss: 0.0574 - val_accuracy: 0.9907\n",
            "Epoch 74/100\n",
            "10/10 [==============================] - 0s 9ms/step - loss: 0.0814 - accuracy: 0.9718 - val_loss: 0.0581 - val_accuracy: 0.9907\n",
            "Epoch 75/100\n",
            "10/10 [==============================] - 0s 11ms/step - loss: 0.0829 - accuracy: 0.9718 - val_loss: 0.0558 - val_accuracy: 0.9813\n",
            "Epoch 76/100\n",
            "10/10 [==============================] - 0s 9ms/step - loss: 0.0876 - accuracy: 0.9781 - val_loss: 0.0535 - val_accuracy: 0.9813\n",
            "Epoch 77/100\n",
            "10/10 [==============================] - 0s 10ms/step - loss: 0.0846 - accuracy: 0.9749 - val_loss: 0.0538 - val_accuracy: 0.9813\n",
            "Epoch 78/100\n",
            "10/10 [==============================] - 0s 10ms/step - loss: 0.0815 - accuracy: 0.9749 - val_loss: 0.0541 - val_accuracy: 0.9813\n",
            "Epoch 79/100\n",
            "10/10 [==============================] - 0s 13ms/step - loss: 0.0732 - accuracy: 0.9843 - val_loss: 0.0544 - val_accuracy: 0.9813\n",
            "Epoch 80/100\n",
            "10/10 [==============================] - 0s 10ms/step - loss: 0.0913 - accuracy: 0.9655 - val_loss: 0.0549 - val_accuracy: 0.9907\n",
            "Epoch 81/100\n",
            "10/10 [==============================] - 0s 9ms/step - loss: 0.0775 - accuracy: 0.9749 - val_loss: 0.0538 - val_accuracy: 0.9907\n",
            "Epoch 82/100\n",
            "10/10 [==============================] - 0s 13ms/step - loss: 0.0695 - accuracy: 0.9781 - val_loss: 0.0534 - val_accuracy: 0.9907\n",
            "Epoch 83/100\n",
            "10/10 [==============================] - 0s 14ms/step - loss: 0.0734 - accuracy: 0.9843 - val_loss: 0.0523 - val_accuracy: 0.9907\n",
            "Epoch 84/100\n",
            "10/10 [==============================] - 0s 10ms/step - loss: 0.0757 - accuracy: 0.9687 - val_loss: 0.0516 - val_accuracy: 0.9907\n",
            "Epoch 85/100\n",
            "10/10 [==============================] - 0s 9ms/step - loss: 0.0738 - accuracy: 0.9781 - val_loss: 0.0514 - val_accuracy: 0.9907\n",
            "Epoch 86/100\n",
            "10/10 [==============================] - 0s 8ms/step - loss: 0.0663 - accuracy: 0.9718 - val_loss: 0.0516 - val_accuracy: 0.9907\n",
            "Epoch 87/100\n",
            "10/10 [==============================] - 0s 10ms/step - loss: 0.0756 - accuracy: 0.9749 - val_loss: 0.0511 - val_accuracy: 0.9907\n",
            "Epoch 88/100\n",
            "10/10 [==============================] - 0s 10ms/step - loss: 0.0788 - accuracy: 0.9843 - val_loss: 0.0506 - val_accuracy: 0.9907\n",
            "Epoch 89/100\n",
            "10/10 [==============================] - 0s 8ms/step - loss: 0.0739 - accuracy: 0.9718 - val_loss: 0.0485 - val_accuracy: 0.9813\n",
            "Epoch 90/100\n",
            "10/10 [==============================] - 0s 10ms/step - loss: 0.0659 - accuracy: 0.9812 - val_loss: 0.0482 - val_accuracy: 0.9813\n",
            "Epoch 91/100\n",
            "10/10 [==============================] - 0s 8ms/step - loss: 0.0800 - accuracy: 0.9781 - val_loss: 0.0479 - val_accuracy: 0.9813\n",
            "Epoch 92/100\n",
            "10/10 [==============================] - 0s 7ms/step - loss: 0.0734 - accuracy: 0.9781 - val_loss: 0.0479 - val_accuracy: 0.9813\n",
            "Epoch 93/100\n",
            "10/10 [==============================] - 0s 7ms/step - loss: 0.0709 - accuracy: 0.9687 - val_loss: 0.0479 - val_accuracy: 0.9813\n",
            "Epoch 94/100\n",
            "10/10 [==============================] - 0s 13ms/step - loss: 0.0688 - accuracy: 0.9843 - val_loss: 0.0480 - val_accuracy: 0.9907\n",
            "Epoch 95/100\n",
            "10/10 [==============================] - 0s 12ms/step - loss: 0.0697 - accuracy: 0.9749 - val_loss: 0.0473 - val_accuracy: 0.9907\n",
            "Epoch 96/100\n",
            "10/10 [==============================] - 0s 9ms/step - loss: 0.0572 - accuracy: 0.9843 - val_loss: 0.0472 - val_accuracy: 0.9907\n",
            "Epoch 97/100\n",
            "10/10 [==============================] - 0s 8ms/step - loss: 0.0607 - accuracy: 0.9843 - val_loss: 0.0467 - val_accuracy: 0.9907\n",
            "Epoch 98/100\n",
            "10/10 [==============================] - 0s 16ms/step - loss: 0.0612 - accuracy: 0.9812 - val_loss: 0.0461 - val_accuracy: 0.9907\n",
            "Epoch 99/100\n",
            "10/10 [==============================] - 0s 8ms/step - loss: 0.0614 - accuracy: 0.9781 - val_loss: 0.0453 - val_accuracy: 0.9813\n",
            "Epoch 100/100\n",
            "10/10 [==============================] - 0s 10ms/step - loss: 0.0561 - accuracy: 0.9843 - val_loss: 0.0453 - val_accuracy: 0.9907\n"
          ]
        }
      ]
    },
    {
      "cell_type": "code",
      "metadata": {
        "colab": {
          "base_uri": "https://localhost:8080/",
          "height": 328
        },
        "id": "rBfA7RyuJMvX",
        "outputId": "37a47105-b64c-49a2-ca1d-518e2f2c8147"
      },
      "source": [
        "import pandas as pd\n",
        "\n",
        "# To plot pretty figures\n",
        "%matplotlib inline\n",
        "import matplotlib as mpl\n",
        "import matplotlib.pyplot as plt\n",
        "mpl.rc('axes', labelsize=14)\n",
        "mpl.rc('xtick', labelsize=12)\n",
        "mpl.rc('ytick', labelsize=12)\n",
        "\n",
        "pd.DataFrame(history.history).plot(figsize=(8, 5))\n",
        "plt.grid(True)\n",
        "plt.gca().set_ylim(0, 1)\n",
        "#save_fig(\"keras_learning_curves_plot\")\n",
        "plt.show()"
      ],
      "execution_count": 14,
      "outputs": [
        {
          "output_type": "display_data",
          "data": {
            "text/plain": [
              "<Figure size 576x360 with 1 Axes>"
            ],
            "image/png": "[encoded data removed]"
          },
          "metadata": {
            "needs_background": "light"
          }
        }
      ]
    },
    {
      "cell_type": "code",
      "metadata": {
        "colab": {
          "base_uri": "https://localhost:8080/"
        },
        "id": "F-eVyBa0Jo2w",
        "outputId": "847d4ae2-5a87-4720-8909-769b2d2b2655"
      },
      "source": [
        "model.evaluate(X_test, y_test)"
      ],
      "execution_count": 15,
      "outputs": [
        {
          "output_type": "stream",
          "name": "stdout",
          "text": [
            "5/5 [==============================] - 0s 3ms/step - loss: 0.0611 - accuracy: 0.9790\n"
          ]
        },
        {
          "output_type": "execute_result",
          "data": {
            "text/plain": [
              "[0.06105995178222656, 0.9790209531784058]"
            ]
          },
          "metadata": {},
          "execution_count": 15
        }
      ]
    },
    {
      "cell_type": "code",
      "metadata": {
        "colab": {
          "base_uri": "https://localhost:8080/"
        },
        "id": "fU2I6GeVJsc1",
        "outputId": "69543e79-6174-4b73-96ec-cbfd3f57c0d3"
      },
      "source": [
        "X_new = X_test[:20]\n",
        "y_proba = model.predict(X_new)\n",
        "y_proba.round(2)"
      ],
      "execution_count": 16,
      "outputs": [
        {
          "output_type": "execute_result",
          "data": {
            "text/plain": [
              "array([[0.06, 0.94],\n",
              "       [1.  , 0.  ],\n",
              "       [0.99, 0.01],\n",
              "       [0.  , 1.  ],\n",
              "       [0.  , 1.  ],\n",
              "       [1.  , 0.  ],\n",
              "       [1.  , 0.  ],\n",
              "       [0.97, 0.03],\n",
              "       [0.74, 0.26],\n",
              "       [0.  , 1.  ],\n",
              "       [0.09, 0.91],\n",
              "       [0.97, 0.03],\n",
              "       [0.02, 0.98],\n",
              "       [0.96, 0.04],\n",
              "       [0.  , 1.  ],\n",
              "       [1.  , 0.  ],\n",
              "       [0.  , 1.  ],\n",
              "       [0.  , 1.  ],\n",
              "       [0.  , 1.  ],\n",
              "       [1.  , 0.  ]], dtype=float32)"
            ]
          },
          "metadata": {},
          "execution_count": 16
        }
      ]
    },
    {
      "cell_type": "code",
      "metadata": {
        "colab": {
          "base_uri": "https://localhost:8080/"
        },
        "id": "-TqTXwQYJwFC",
        "outputId": "81ac1af0-5bf5-4fcb-e67d-cf8966245b9e"
      },
      "source": [
        "y_pred = np.argmax(model.predict(X_new), axis=-1)\n",
        "y_pred"
      ],
      "execution_count": 17,
      "outputs": [
        {
          "output_type": "execute_result",
          "data": {
            "text/plain": [
              "array([1, 0, 0, 1, 1, 0, 0, 0, 0, 1, 1, 0, 1, 0, 1, 0, 1, 1, 1, 0])"
            ]
          },
          "metadata": {},
          "execution_count": 17
        }
      ]
    },
    {
      "cell_type": "code",
      "metadata": {
        "colab": {
          "base_uri": "https://localhost:8080/"
        },
        "id": "N2cZakp6Qgic",
        "outputId": "bb8e43ae-1e0e-45f5-f3a4-2282a1c72cf5"
      },
      "source": [
        "y_test[:20]"
      ],
      "execution_count": 18,
      "outputs": [
        {
          "output_type": "execute_result",
          "data": {
            "text/plain": [
              "array([1, 0, 0, 1, 1, 0, 0, 0, 1, 1, 1, 0, 1, 0, 1, 0, 1, 1, 1, 0])"
            ]
          },
          "metadata": {},
          "execution_count": 18
        }
      ]
    }
  ]
}